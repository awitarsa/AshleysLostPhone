{
 "cells": [
  {
   "cell_type": "code",
   "execution_count": 1,
   "id": "fc92a518",
   "metadata": {},
   "outputs": [],
   "source": [
    "import pandas as pd\n",
    "import seaborn as sns\n",
    "import matplotlib.pyplot as plt\n",
    "import statsmodels.formula.api as smf\n",
    "import numpy.ma as ma\n",
    "import numpy as np\n",
    "import fuzzymatcher\n",
    "import statsmodels.formula.api as sm\n",
    "\n",
    "sns.set_style('whitegrid')\n",
    "plt.style.use(\"fivethirtyeight\")"
   ]
  },
  {
   "cell_type": "markdown",
   "id": "954a1db4",
   "metadata": {},
   "source": [
    "## Cleaning Data"
   ]
  },
  {
   "cell_type": "code",
   "execution_count": 2,
   "id": "e6a3b4fc",
   "metadata": {},
   "outputs": [],
   "source": [
    "top_colleges_list = pd.read_csv('top_colleges_2022.csv')\n",
    "barrons = pd.read_csv('Barrons College List.csv')\n",
    "tuition = pd.read_csv('tuition_cost.csv')"
   ]
  },
  {
   "cell_type": "code",
   "execution_count": 3,
   "id": "d082e863",
   "metadata": {},
   "outputs": [
    {
     "data": {
      "text/html": [
       "<div>\n",
       "<style scoped>\n",
       "    .dataframe tbody tr th:only-of-type {\n",
       "        vertical-align: middle;\n",
       "    }\n",
       "\n",
       "    .dataframe tbody tr th {\n",
       "        vertical-align: top;\n",
       "    }\n",
       "\n",
       "    .dataframe thead th {\n",
       "        text-align: right;\n",
       "    }\n",
       "</style>\n",
       "<table border=\"1\" class=\"dataframe\">\n",
       "  <thead>\n",
       "    <tr style=\"text-align: right;\">\n",
       "      <th></th>\n",
       "      <th>name</th>\n",
       "      <th>out_of_state_total</th>\n",
       "    </tr>\n",
       "  </thead>\n",
       "  <tbody>\n",
       "    <tr>\n",
       "      <th>0</th>\n",
       "      <td>Aaniiih Nakoda College</td>\n",
       "      <td>2380</td>\n",
       "    </tr>\n",
       "    <tr>\n",
       "      <th>1</th>\n",
       "      <td>Abilene Christian University</td>\n",
       "      <td>45200</td>\n",
       "    </tr>\n",
       "    <tr>\n",
       "      <th>2</th>\n",
       "      <td>Abraham Baldwin Agricultural College</td>\n",
       "      <td>21024</td>\n",
       "    </tr>\n",
       "    <tr>\n",
       "      <th>3</th>\n",
       "      <td>Academy College</td>\n",
       "      <td>17661</td>\n",
       "    </tr>\n",
       "    <tr>\n",
       "      <th>4</th>\n",
       "      <td>Academy of Art University</td>\n",
       "      <td>44458</td>\n",
       "    </tr>\n",
       "  </tbody>\n",
       "</table>\n",
       "</div>"
      ],
      "text/plain": [
       "                                   name  out_of_state_total\n",
       "0                Aaniiih Nakoda College                2380\n",
       "1          Abilene Christian University               45200\n",
       "2  Abraham Baldwin Agricultural College               21024\n",
       "3                       Academy College               17661\n",
       "4             Academy of Art University               44458"
      ]
     },
     "execution_count": 3,
     "metadata": {},
     "output_type": "execute_result"
    }
   ],
   "source": [
    "#tuition.columns\n",
    "tuition = tuition.drop(['state', 'state_code', 'type', 'degree_length',\n",
    "       'room_and_board', 'in_state_tuition', 'in_state_total',\n",
    "       'out_of_state_tuition',], axis = 1)\n",
    "tuition.head()"
   ]
  },
  {
   "cell_type": "code",
   "execution_count": 4,
   "id": "532c8e99",
   "metadata": {},
   "outputs": [],
   "source": [
    "barrons.columns = barrons.columns.str.rstrip()\n",
    "barrons['College Name'] = barrons['College Name'].astype(str)\n",
    "barrons['College Name'] = barrons['College Name'].apply(lambda x: x.strip())\n",
    "#barrons.head()"
   ]
  },
  {
   "cell_type": "code",
   "execution_count": 5,
   "id": "02493a15",
   "metadata": {},
   "outputs": [],
   "source": [
    "data = fuzzymatcher.fuzzy_left_join(top_colleges_list, barrons, ['organizationName'], ['College Name'])"
   ]
  },
  {
   "cell_type": "code",
   "execution_count": 6,
   "id": "336e44cb",
   "metadata": {},
   "outputs": [],
   "source": [
    "data = data.drop(['best_match_score', '__id_left', '__id_right','description', 'longitude', 'latitude', 'website', 'phoneNumber', 'carnegieClassification', 'studentPopulation', 'College Name', 'City and State'], axis = 1)"
   ]
  },
  {
   "cell_type": "code",
   "execution_count": 7,
   "id": "474ac91c",
   "metadata": {},
   "outputs": [],
   "source": [
    "data2 = fuzzymatcher.fuzzy_left_join(data, tuition, ['organizationName'], ['name'])"
   ]
  },
  {
   "cell_type": "code",
   "execution_count": 8,
   "id": "021d4303",
   "metadata": {},
   "outputs": [],
   "source": [
    "data = data2.drop(['best_match_score', '__id_left', '__id_right','yearFounded', 'stateCode', 'name'], axis = 1)"
   ]
  },
  {
   "cell_type": "code",
   "execution_count": 9,
   "id": "8472359f",
   "metadata": {},
   "outputs": [
    {
     "data": {
      "text/html": [
       "<div>\n",
       "<style scoped>\n",
       "    .dataframe tbody tr th:only-of-type {\n",
       "        vertical-align: middle;\n",
       "    }\n",
       "\n",
       "    .dataframe tbody tr th {\n",
       "        vertical-align: top;\n",
       "    }\n",
       "\n",
       "    .dataframe thead th {\n",
       "        text-align: right;\n",
       "    }\n",
       "</style>\n",
       "<table border=\"1\" class=\"dataframe\">\n",
       "  <thead>\n",
       "    <tr style=\"text-align: right;\">\n",
       "      <th></th>\n",
       "      <th>rank</th>\n",
       "      <th>organizationName</th>\n",
       "      <th>state</th>\n",
       "      <th>campusSetting</th>\n",
       "      <th>medianBaseSalary</th>\n",
       "      <th>city</th>\n",
       "      <th>country</th>\n",
       "      <th>state.1</th>\n",
       "      <th>region</th>\n",
       "      <th>collegeType</th>\n",
       "      <th>studentFacultyRatio</th>\n",
       "      <th>totalStudentPop</th>\n",
       "      <th>undergradPop</th>\n",
       "      <th>totalGrantAid</th>\n",
       "      <th>percentOfStudentsFinAid</th>\n",
       "      <th>percentOfStudentsGrant</th>\n",
       "      <th>Selectivity</th>\n",
       "      <th>out_of_state_total</th>\n",
       "    </tr>\n",
       "  </thead>\n",
       "  <tbody>\n",
       "    <tr>\n",
       "      <th>0</th>\n",
       "      <td>1</td>\n",
       "      <td>Massachusetts Institute of Technology</td>\n",
       "      <td>MA</td>\n",
       "      <td>Urban</td>\n",
       "      <td>173700.0</td>\n",
       "      <td>Cambridge</td>\n",
       "      <td>United States</td>\n",
       "      <td>Massachusetts</td>\n",
       "      <td>Northeast</td>\n",
       "      <td>Private not-for-profit</td>\n",
       "      <td>3</td>\n",
       "      <td>12195</td>\n",
       "      <td>4582</td>\n",
       "      <td>35299332.0</td>\n",
       "      <td>75.0</td>\n",
       "      <td>60.0</td>\n",
       "      <td>1.0</td>\n",
       "      <td>67342</td>\n",
       "    </tr>\n",
       "    <tr>\n",
       "      <th>1</th>\n",
       "      <td>2</td>\n",
       "      <td>Stanford University</td>\n",
       "      <td>CA</td>\n",
       "      <td>Suburban</td>\n",
       "      <td>173500.0</td>\n",
       "      <td>Stanford</td>\n",
       "      <td>United States</td>\n",
       "      <td>California</td>\n",
       "      <td>West</td>\n",
       "      <td>Private not-for-profit</td>\n",
       "      <td>4</td>\n",
       "      <td>20961</td>\n",
       "      <td>8464</td>\n",
       "      <td>51328461.0</td>\n",
       "      <td>70.0</td>\n",
       "      <td>55.0</td>\n",
       "      <td>1.0</td>\n",
       "      <td>67117</td>\n",
       "    </tr>\n",
       "    <tr>\n",
       "      <th>2</th>\n",
       "      <td>2</td>\n",
       "      <td>University of California, Berkeley</td>\n",
       "      <td>CA</td>\n",
       "      <td>Urban</td>\n",
       "      <td>154500.0</td>\n",
       "      <td>Berkeley</td>\n",
       "      <td>United States</td>\n",
       "      <td>California</td>\n",
       "      <td>West</td>\n",
       "      <td>Public</td>\n",
       "      <td>19</td>\n",
       "      <td>45878</td>\n",
       "      <td>33208</td>\n",
       "      <td>64495611.0</td>\n",
       "      <td>63.0</td>\n",
       "      <td>53.0</td>\n",
       "      <td>1.0</td>\n",
       "      <td>59336</td>\n",
       "    </tr>\n",
       "    <tr>\n",
       "      <th>3</th>\n",
       "      <td>4</td>\n",
       "      <td>Princeton University</td>\n",
       "      <td>NJ</td>\n",
       "      <td>Urban</td>\n",
       "      <td>167600.0</td>\n",
       "      <td>Princeton</td>\n",
       "      <td>United States</td>\n",
       "      <td>New Jersey</td>\n",
       "      <td>Northeast</td>\n",
       "      <td>Private not-for-profit</td>\n",
       "      <td>4</td>\n",
       "      <td>8532</td>\n",
       "      <td>5516</td>\n",
       "      <td>44871096.0</td>\n",
       "      <td>62.0</td>\n",
       "      <td>61.0</td>\n",
       "      <td>1.0</td>\n",
       "      <td>65620</td>\n",
       "    </tr>\n",
       "    <tr>\n",
       "      <th>4</th>\n",
       "      <td>5</td>\n",
       "      <td>Columbia University</td>\n",
       "      <td>NY</td>\n",
       "      <td>Urban</td>\n",
       "      <td>148800.0</td>\n",
       "      <td>New York</td>\n",
       "      <td>United States</td>\n",
       "      <td>New York</td>\n",
       "      <td>Northeast</td>\n",
       "      <td>Private not-for-profit</td>\n",
       "      <td>6</td>\n",
       "      <td>33882</td>\n",
       "      <td>8689</td>\n",
       "      <td>44615007.0</td>\n",
       "      <td>58.0</td>\n",
       "      <td>54.0</td>\n",
       "      <td>1.0</td>\n",
       "      <td>74001</td>\n",
       "    </tr>\n",
       "  </tbody>\n",
       "</table>\n",
       "</div>"
      ],
      "text/plain": [
       "   rank                       organizationName state campusSetting  \\\n",
       "0     1  Massachusetts Institute of Technology    MA         Urban   \n",
       "1     2                    Stanford University    CA      Suburban   \n",
       "2     2     University of California, Berkeley    CA         Urban   \n",
       "3     4                   Princeton University    NJ         Urban   \n",
       "4     5                    Columbia University    NY         Urban   \n",
       "\n",
       "   medianBaseSalary       city        country        state.1     region  \\\n",
       "0          173700.0  Cambridge  United States  Massachusetts  Northeast   \n",
       "1          173500.0   Stanford  United States     California       West   \n",
       "2          154500.0   Berkeley  United States     California       West   \n",
       "3          167600.0  Princeton  United States     New Jersey  Northeast   \n",
       "4          148800.0   New York  United States       New York  Northeast   \n",
       "\n",
       "              collegeType  studentFacultyRatio  totalStudentPop  undergradPop  \\\n",
       "0  Private not-for-profit                    3            12195          4582   \n",
       "1  Private not-for-profit                    4            20961          8464   \n",
       "2                  Public                   19            45878         33208   \n",
       "3  Private not-for-profit                    4             8532          5516   \n",
       "4  Private not-for-profit                    6            33882          8689   \n",
       "\n",
       "   totalGrantAid  percentOfStudentsFinAid  percentOfStudentsGrant  \\\n",
       "0     35299332.0                     75.0                    60.0   \n",
       "1     51328461.0                     70.0                    55.0   \n",
       "2     64495611.0                     63.0                    53.0   \n",
       "3     44871096.0                     62.0                    61.0   \n",
       "4     44615007.0                     58.0                    54.0   \n",
       "\n",
       "   Selectivity  out_of_state_total  \n",
       "0          1.0               67342  \n",
       "1          1.0               67117  \n",
       "2          1.0               59336  \n",
       "3          1.0               65620  \n",
       "4          1.0               74001  "
      ]
     },
     "execution_count": 9,
     "metadata": {},
     "output_type": "execute_result"
    }
   ],
   "source": [
    "data.head()"
   ]
  },
  {
   "cell_type": "code",
   "execution_count": 10,
   "id": "6962944f",
   "metadata": {},
   "outputs": [],
   "source": [
    "#data.isnull().sum(axis=0)"
   ]
  },
  {
   "cell_type": "code",
   "execution_count": 11,
   "id": "af0f76e5",
   "metadata": {},
   "outputs": [],
   "source": [
    "data = data.dropna(axis=0)"
   ]
  },
  {
   "cell_type": "markdown",
   "id": "ebb5f487",
   "metadata": {},
   "source": [
    "# Preparing the Model"
   ]
  },
  {
   "cell_type": "code",
   "execution_count": 74,
   "id": "c150a377",
   "metadata": {},
   "outputs": [],
   "source": [
    "# WE ARE DOING LINEAR REGRESSION, medianBaseSalary is continuous variable"
   ]
  },
  {
   "cell_type": "markdown",
   "id": "c75ba915",
   "metadata": {},
   "source": [
    "# Collinearity & VIF"
   ]
  },
  {
   "cell_type": "code",
   "execution_count": 12,
   "id": "90bfe5ba",
   "metadata": {},
   "outputs": [],
   "source": [
    "# our Y variable is medianBaseSalary"
   ]
  },
  {
   "cell_type": "code",
   "execution_count": 13,
   "id": "24e3f87d",
   "metadata": {},
   "outputs": [
    {
     "data": {
      "text/html": [
       "<div>\n",
       "<style scoped>\n",
       "    .dataframe tbody tr th:only-of-type {\n",
       "        vertical-align: middle;\n",
       "    }\n",
       "\n",
       "    .dataframe tbody tr th {\n",
       "        vertical-align: top;\n",
       "    }\n",
       "\n",
       "    .dataframe thead th {\n",
       "        text-align: right;\n",
       "    }\n",
       "</style>\n",
       "<table border=\"1\" class=\"dataframe\">\n",
       "  <thead>\n",
       "    <tr style=\"text-align: right;\">\n",
       "      <th></th>\n",
       "      <th>rank</th>\n",
       "      <th>medianBaseSalary</th>\n",
       "      <th>studentFacultyRatio</th>\n",
       "      <th>totalStudentPop</th>\n",
       "      <th>undergradPop</th>\n",
       "      <th>totalGrantAid</th>\n",
       "      <th>percentOfStudentsFinAid</th>\n",
       "      <th>percentOfStudentsGrant</th>\n",
       "      <th>Selectivity</th>\n",
       "      <th>out_of_state_total</th>\n",
       "    </tr>\n",
       "  </thead>\n",
       "  <tbody>\n",
       "    <tr>\n",
       "      <th>rank</th>\n",
       "      <td>1.000000</td>\n",
       "      <td>-0.645332</td>\n",
       "      <td>0.104158</td>\n",
       "      <td>-0.368774</td>\n",
       "      <td>-0.301877</td>\n",
       "      <td>-0.467038</td>\n",
       "      <td>0.651516</td>\n",
       "      <td>0.605133</td>\n",
       "      <td>0.427657</td>\n",
       "      <td>-0.417975</td>\n",
       "    </tr>\n",
       "    <tr>\n",
       "      <th>medianBaseSalary</th>\n",
       "      <td>-0.645332</td>\n",
       "      <td>1.000000</td>\n",
       "      <td>-0.443229</td>\n",
       "      <td>-0.074030</td>\n",
       "      <td>-0.156016</td>\n",
       "      <td>0.202065</td>\n",
       "      <td>-0.492029</td>\n",
       "      <td>-0.428602</td>\n",
       "      <td>-0.486363</td>\n",
       "      <td>0.594859</td>\n",
       "    </tr>\n",
       "    <tr>\n",
       "      <th>studentFacultyRatio</th>\n",
       "      <td>0.104158</td>\n",
       "      <td>-0.443229</td>\n",
       "      <td>1.000000</td>\n",
       "      <td>0.577120</td>\n",
       "      <td>0.664584</td>\n",
       "      <td>0.147832</td>\n",
       "      <td>0.124652</td>\n",
       "      <td>0.042722</td>\n",
       "      <td>0.339866</td>\n",
       "      <td>-0.660050</td>\n",
       "    </tr>\n",
       "    <tr>\n",
       "      <th>totalStudentPop</th>\n",
       "      <td>-0.368774</td>\n",
       "      <td>-0.074030</td>\n",
       "      <td>0.577120</td>\n",
       "      <td>1.000000</td>\n",
       "      <td>0.973690</td>\n",
       "      <td>0.659760</td>\n",
       "      <td>-0.204889</td>\n",
       "      <td>-0.261773</td>\n",
       "      <td>0.078069</td>\n",
       "      <td>-0.297881</td>\n",
       "    </tr>\n",
       "    <tr>\n",
       "      <th>undergradPop</th>\n",
       "      <td>-0.301877</td>\n",
       "      <td>-0.156016</td>\n",
       "      <td>0.664584</td>\n",
       "      <td>0.973690</td>\n",
       "      <td>1.000000</td>\n",
       "      <td>0.588302</td>\n",
       "      <td>-0.161342</td>\n",
       "      <td>-0.227700</td>\n",
       "      <td>0.130711</td>\n",
       "      <td>-0.383983</td>\n",
       "    </tr>\n",
       "    <tr>\n",
       "      <th>totalGrantAid</th>\n",
       "      <td>-0.467038</td>\n",
       "      <td>0.202065</td>\n",
       "      <td>0.147832</td>\n",
       "      <td>0.659760</td>\n",
       "      <td>0.588302</td>\n",
       "      <td>1.000000</td>\n",
       "      <td>-0.109698</td>\n",
       "      <td>-0.081362</td>\n",
       "      <td>-0.103527</td>\n",
       "      <td>0.216385</td>\n",
       "    </tr>\n",
       "    <tr>\n",
       "      <th>percentOfStudentsFinAid</th>\n",
       "      <td>0.651516</td>\n",
       "      <td>-0.492029</td>\n",
       "      <td>0.124652</td>\n",
       "      <td>-0.204889</td>\n",
       "      <td>-0.161342</td>\n",
       "      <td>-0.109698</td>\n",
       "      <td>1.000000</td>\n",
       "      <td>0.958937</td>\n",
       "      <td>0.512090</td>\n",
       "      <td>-0.307817</td>\n",
       "    </tr>\n",
       "    <tr>\n",
       "      <th>percentOfStudentsGrant</th>\n",
       "      <td>0.605133</td>\n",
       "      <td>-0.428602</td>\n",
       "      <td>0.042722</td>\n",
       "      <td>-0.261773</td>\n",
       "      <td>-0.227700</td>\n",
       "      <td>-0.081362</td>\n",
       "      <td>0.958937</td>\n",
       "      <td>1.000000</td>\n",
       "      <td>0.444521</td>\n",
       "      <td>-0.178700</td>\n",
       "    </tr>\n",
       "    <tr>\n",
       "      <th>Selectivity</th>\n",
       "      <td>0.427657</td>\n",
       "      <td>-0.486363</td>\n",
       "      <td>0.339866</td>\n",
       "      <td>0.078069</td>\n",
       "      <td>0.130711</td>\n",
       "      <td>-0.103527</td>\n",
       "      <td>0.512090</td>\n",
       "      <td>0.444521</td>\n",
       "      <td>1.000000</td>\n",
       "      <td>-0.465824</td>\n",
       "    </tr>\n",
       "    <tr>\n",
       "      <th>out_of_state_total</th>\n",
       "      <td>-0.417975</td>\n",
       "      <td>0.594859</td>\n",
       "      <td>-0.660050</td>\n",
       "      <td>-0.297881</td>\n",
       "      <td>-0.383983</td>\n",
       "      <td>0.216385</td>\n",
       "      <td>-0.307817</td>\n",
       "      <td>-0.178700</td>\n",
       "      <td>-0.465824</td>\n",
       "      <td>1.000000</td>\n",
       "    </tr>\n",
       "  </tbody>\n",
       "</table>\n",
       "</div>"
      ],
      "text/plain": [
       "                             rank  medianBaseSalary  studentFacultyRatio  \\\n",
       "rank                     1.000000         -0.645332             0.104158   \n",
       "medianBaseSalary        -0.645332          1.000000            -0.443229   \n",
       "studentFacultyRatio      0.104158         -0.443229             1.000000   \n",
       "totalStudentPop         -0.368774         -0.074030             0.577120   \n",
       "undergradPop            -0.301877         -0.156016             0.664584   \n",
       "totalGrantAid           -0.467038          0.202065             0.147832   \n",
       "percentOfStudentsFinAid  0.651516         -0.492029             0.124652   \n",
       "percentOfStudentsGrant   0.605133         -0.428602             0.042722   \n",
       "Selectivity              0.427657         -0.486363             0.339866   \n",
       "out_of_state_total      -0.417975          0.594859            -0.660050   \n",
       "\n",
       "                         totalStudentPop  undergradPop  totalGrantAid  \\\n",
       "rank                           -0.368774     -0.301877      -0.467038   \n",
       "medianBaseSalary               -0.074030     -0.156016       0.202065   \n",
       "studentFacultyRatio             0.577120      0.664584       0.147832   \n",
       "totalStudentPop                 1.000000      0.973690       0.659760   \n",
       "undergradPop                    0.973690      1.000000       0.588302   \n",
       "totalGrantAid                   0.659760      0.588302       1.000000   \n",
       "percentOfStudentsFinAid        -0.204889     -0.161342      -0.109698   \n",
       "percentOfStudentsGrant         -0.261773     -0.227700      -0.081362   \n",
       "Selectivity                     0.078069      0.130711      -0.103527   \n",
       "out_of_state_total             -0.297881     -0.383983       0.216385   \n",
       "\n",
       "                         percentOfStudentsFinAid  percentOfStudentsGrant  \\\n",
       "rank                                    0.651516                0.605133   \n",
       "medianBaseSalary                       -0.492029               -0.428602   \n",
       "studentFacultyRatio                     0.124652                0.042722   \n",
       "totalStudentPop                        -0.204889               -0.261773   \n",
       "undergradPop                           -0.161342               -0.227700   \n",
       "totalGrantAid                          -0.109698               -0.081362   \n",
       "percentOfStudentsFinAid                 1.000000                0.958937   \n",
       "percentOfStudentsGrant                  0.958937                1.000000   \n",
       "Selectivity                             0.512090                0.444521   \n",
       "out_of_state_total                     -0.307817               -0.178700   \n",
       "\n",
       "                         Selectivity  out_of_state_total  \n",
       "rank                        0.427657           -0.417975  \n",
       "medianBaseSalary           -0.486363            0.594859  \n",
       "studentFacultyRatio         0.339866           -0.660050  \n",
       "totalStudentPop             0.078069           -0.297881  \n",
       "undergradPop                0.130711           -0.383983  \n",
       "totalGrantAid              -0.103527            0.216385  \n",
       "percentOfStudentsFinAid     0.512090           -0.307817  \n",
       "percentOfStudentsGrant      0.444521           -0.178700  \n",
       "Selectivity                 1.000000           -0.465824  \n",
       "out_of_state_total         -0.465824            1.000000  "
      ]
     },
     "execution_count": 13,
     "metadata": {},
     "output_type": "execute_result"
    }
   ],
   "source": [
    "data.corr()"
   ]
  },
  {
   "cell_type": "code",
   "execution_count": 14,
   "id": "9da5feb3",
   "metadata": {},
   "outputs": [],
   "source": [
    "X = data[['Selectivity', 'studentFacultyRatio', 'undergradPop', 'rank', 'out_of_state_total', 'totalGrantAid']]"
   ]
  },
  {
   "cell_type": "code",
   "execution_count": 15,
   "id": "802b7241",
   "metadata": {},
   "outputs": [
    {
     "data": {
      "text/plain": [
       "Index(['studentFacultyRatio', 'undergradPop', 'rank', 'out_of_state_total',\n",
       "       'totalGrantAid'],\n",
       "      dtype='object')"
      ]
     },
     "execution_count": 15,
     "metadata": {},
     "output_type": "execute_result"
    }
   ],
   "source": [
    "X.columns[1:]"
   ]
  },
  {
   "cell_type": "code",
   "execution_count": 16,
   "id": "881742e0",
   "metadata": {},
   "outputs": [
    {
     "name": "stdout",
     "output_type": "stream",
     "text": [
      "               feature        VIF\n",
      "0                const  95.644893\n",
      "1          Selectivity   1.433446\n",
      "2  studentFacultyRatio   2.802808\n",
      "3         undergradPop   4.070057\n",
      "4                 rank   1.940852\n",
      "5   out_of_state_total   2.963175\n",
      "6        totalGrantAid   2.388220\n"
     ]
    }
   ],
   "source": [
    "from statsmodels.stats.outliers_influence import variance_inflation_factor\n",
    "from statsmodels.tools.tools import add_constant\n",
    "X = add_constant(X)\n",
    "vif_data = pd.DataFrame()\n",
    "vif_data[\"feature\"] = X.columns\n",
    "\n",
    "for i in range(len(X.columns)):\n",
    "    vif_data.loc[i,'VIF'] = variance_inflation_factor(X.values, i)\n",
    "\n",
    "print(vif_data)"
   ]
  },
  {
   "cell_type": "markdown",
   "id": "37546739",
   "metadata": {},
   "source": [
    "As a rule of thumb, a VIF value that exceeds 5 or 10 indicates a problematic amount of collinearity.\n",
    "\n",
    "None of our variables have a VIF value above 5 - no indication of collinearity, as of now, keep all predictors."
   ]
  },
  {
   "cell_type": "markdown",
   "id": "6ca336be",
   "metadata": {},
   "source": [
    "# Variable Selection"
   ]
  },
  {
   "cell_type": "code",
   "execution_count": 26,
   "id": "d03865be",
   "metadata": {},
   "outputs": [
    {
     "data": {
      "text/html": [
       "<table class=\"simpletable\">\n",
       "<caption>OLS Regression Results</caption>\n",
       "<tr>\n",
       "  <th>Dep. Variable:</th>    <td>medianBaseSalary</td> <th>  R-squared:         </th> <td>   0.598</td> \n",
       "</tr>\n",
       "<tr>\n",
       "  <th>Model:</th>                   <td>OLS</td>       <th>  Adj. R-squared:    </th> <td>   0.593</td> \n",
       "</tr>\n",
       "<tr>\n",
       "  <th>Method:</th>             <td>Least Squares</td>  <th>  F-statistic:       </th> <td>   117.4</td> \n",
       "</tr>\n",
       "<tr>\n",
       "  <th>Date:</th>             <td>Sun, 26 Feb 2023</td> <th>  Prob (F-statistic):</th> <td>1.98e-90</td> \n",
       "</tr>\n",
       "<tr>\n",
       "  <th>Time:</th>                 <td>14:43:30</td>     <th>  Log-Likelihood:    </th> <td> -5153.5</td> \n",
       "</tr>\n",
       "<tr>\n",
       "  <th>No. Observations:</th>      <td>   481</td>      <th>  AIC:               </th> <td>1.032e+04</td>\n",
       "</tr>\n",
       "<tr>\n",
       "  <th>Df Residuals:</th>          <td>   474</td>      <th>  BIC:               </th> <td>1.035e+04</td>\n",
       "</tr>\n",
       "<tr>\n",
       "  <th>Df Model:</th>              <td>     6</td>      <th>                     </th>     <td> </td>    \n",
       "</tr>\n",
       "<tr>\n",
       "  <th>Covariance Type:</th>      <td>nonrobust</td>    <th>                     </th>     <td> </td>    \n",
       "</tr>\n",
       "</table>\n",
       "<table class=\"simpletable\">\n",
       "<tr>\n",
       "           <td></td>              <th>coef</th>     <th>std err</th>      <th>t</th>      <th>P>|t|</th>  <th>[0.025</th>    <th>0.975]</th>  \n",
       "</tr>\n",
       "<tr>\n",
       "  <th>Intercept</th>           <td> 1.397e+05</td> <td> 4889.914</td> <td>   28.565</td> <td> 0.000</td> <td>  1.3e+05</td> <td> 1.49e+05</td>\n",
       "</tr>\n",
       "<tr>\n",
       "  <th>Selectivity</th>         <td>-2197.7636</td> <td>  749.323</td> <td>   -2.933</td> <td> 0.004</td> <td>-3670.168</td> <td> -725.359</td>\n",
       "</tr>\n",
       "<tr>\n",
       "  <th>studentFacultyRatio</th> <td> -471.2290</td> <td>  168.889</td> <td>   -2.790</td> <td> 0.005</td> <td> -803.093</td> <td> -139.365</td>\n",
       "</tr>\n",
       "<tr>\n",
       "  <th>undergradPop</th>        <td>   -0.2546</td> <td>    0.083</td> <td>   -3.083</td> <td> 0.002</td> <td>   -0.417</td> <td>   -0.092</td>\n",
       "</tr>\n",
       "<tr>\n",
       "  <th>rank</th>                <td>  -68.4560</td> <td>    4.851</td> <td>  -14.111</td> <td> 0.000</td> <td>  -77.989</td> <td>  -58.923</td>\n",
       "</tr>\n",
       "<tr>\n",
       "  <th>out_of_state_total</th>  <td>    0.1652</td> <td>    0.057</td> <td>    2.875</td> <td> 0.004</td> <td>    0.052</td> <td>    0.278</td>\n",
       "</tr>\n",
       "<tr>\n",
       "  <th>totalGrantAid</th>       <td> 1.741e-05</td> <td> 4.02e-05</td> <td>    0.433</td> <td> 0.665</td> <td>-6.15e-05</td> <td> 9.64e-05</td>\n",
       "</tr>\n",
       "</table>\n",
       "<table class=\"simpletable\">\n",
       "<tr>\n",
       "  <th>Omnibus:</th>       <td>28.030</td> <th>  Durbin-Watson:     </th> <td>   1.743</td>\n",
       "</tr>\n",
       "<tr>\n",
       "  <th>Prob(Omnibus):</th> <td> 0.000</td> <th>  Jarque-Bera (JB):  </th> <td>  34.314</td>\n",
       "</tr>\n",
       "<tr>\n",
       "  <th>Skew:</th>          <td> 0.523</td> <th>  Prob(JB):          </th> <td>3.54e-08</td>\n",
       "</tr>\n",
       "<tr>\n",
       "  <th>Kurtosis:</th>      <td> 3.786</td> <th>  Cond. No.          </th> <td>3.07e+08</td>\n",
       "</tr>\n",
       "</table><br/><br/>Notes:<br/>[1] Standard Errors assume that the covariance matrix of the errors is correctly specified.<br/>[2] The condition number is large, 3.07e+08. This might indicate that there are<br/>strong multicollinearity or other numerical problems."
      ],
      "text/plain": [
       "<class 'statsmodels.iolib.summary.Summary'>\n",
       "\"\"\"\n",
       "                            OLS Regression Results                            \n",
       "==============================================================================\n",
       "Dep. Variable:       medianBaseSalary   R-squared:                       0.598\n",
       "Model:                            OLS   Adj. R-squared:                  0.593\n",
       "Method:                 Least Squares   F-statistic:                     117.4\n",
       "Date:                Sun, 26 Feb 2023   Prob (F-statistic):           1.98e-90\n",
       "Time:                        14:43:30   Log-Likelihood:                -5153.5\n",
       "No. Observations:                 481   AIC:                         1.032e+04\n",
       "Df Residuals:                     474   BIC:                         1.035e+04\n",
       "Df Model:                           6                                         \n",
       "Covariance Type:            nonrobust                                         \n",
       "=======================================================================================\n",
       "                          coef    std err          t      P>|t|      [0.025      0.975]\n",
       "---------------------------------------------------------------------------------------\n",
       "Intercept            1.397e+05   4889.914     28.565      0.000     1.3e+05    1.49e+05\n",
       "Selectivity         -2197.7636    749.323     -2.933      0.004   -3670.168    -725.359\n",
       "studentFacultyRatio  -471.2290    168.889     -2.790      0.005    -803.093    -139.365\n",
       "undergradPop           -0.2546      0.083     -3.083      0.002      -0.417      -0.092\n",
       "rank                  -68.4560      4.851    -14.111      0.000     -77.989     -58.923\n",
       "out_of_state_total      0.1652      0.057      2.875      0.004       0.052       0.278\n",
       "totalGrantAid        1.741e-05   4.02e-05      0.433      0.665   -6.15e-05    9.64e-05\n",
       "==============================================================================\n",
       "Omnibus:                       28.030   Durbin-Watson:                   1.743\n",
       "Prob(Omnibus):                  0.000   Jarque-Bera (JB):               34.314\n",
       "Skew:                           0.523   Prob(JB):                     3.54e-08\n",
       "Kurtosis:                       3.786   Cond. No.                     3.07e+08\n",
       "==============================================================================\n",
       "\n",
       "Notes:\n",
       "[1] Standard Errors assume that the covariance matrix of the errors is correctly specified.\n",
       "[2] The condition number is large, 3.07e+08. This might indicate that there are\n",
       "strong multicollinearity or other numerical problems.\n",
       "\"\"\""
      ]
     },
     "execution_count": 26,
     "metadata": {},
     "output_type": "execute_result"
    }
   ],
   "source": [
    "model = smf.ols('medianBaseSalary~Selectivity+studentFacultyRatio+undergradPop+rank+out_of_state_total+totalGrantAid', data = data).fit()\n",
    "model.summary()"
   ]
  },
  {
   "cell_type": "markdown",
   "id": "94a5c7e5",
   "metadata": {},
   "source": [
    "# without interaction"
   ]
  },
  {
   "cell_type": "code",
   "execution_count": 27,
   "id": "06086ea2",
   "metadata": {},
   "outputs": [],
   "source": [
    "# Best subset selection\n",
    "\n",
    "X = data[['Selectivity', 'studentFacultyRatio', 'undergradPop', 'rank', 'out_of_state_total', 'totalGrantAid']]\n",
    "\n",
    "def processSubset(predictor_subset):\n",
    "    model = smf.ols('medianBaseSalary~' + '+'.join(predictor_subset),data = data).fit()\n",
    "    Rsquared = model.rsquared\n",
    "    return {\"model\":model, \"Rsquared\":Rsquared}"
   ]
  },
  {
   "cell_type": "code",
   "execution_count": 28,
   "id": "37615ba3",
   "metadata": {},
   "outputs": [],
   "source": [
    "def getBest_model(k):\n",
    "    tic = time.time()\n",
    "    results = []\n",
    "    for combo in itertools.combinations(X.columns, k):\n",
    "        results.append(processSubset((list(combo))))\n",
    "\n",
    "    models = pd.DataFrame(results)\n",
    "\n",
    "    best_model = models.loc[models['Rsquared'].argmax()]\n",
    "    \n",
    "    toc = time.time()\n",
    "    print(\"Processed\", models.shape[0], \"models on\", k, \"predictors in\", (toc-tic), \"seconds.\")\n",
    "    return best_model"
   ]
  },
  {
   "cell_type": "code",
   "execution_count": 29,
   "id": "ff4c0fea",
   "metadata": {},
   "outputs": [
    {
     "name": "stdout",
     "output_type": "stream",
     "text": [
      "Processed 6 models on 1 predictors in 0.031089305877685547 seconds.\n",
      "Processed 15 models on 2 predictors in 0.0510859489440918 seconds.\n",
      "Processed 20 models on 3 predictors in 0.08413290977478027 seconds.\n",
      "Processed 15 models on 4 predictors in 0.1296541690826416 seconds.\n",
      "Processed 6 models on 5 predictors in 0.037507057189941406 seconds.\n",
      "Processed 1 models on 6 predictors in 0.007521152496337891 seconds.\n",
      "Total elapsed time: 0.3476862907409668 seconds.\n"
     ]
    }
   ],
   "source": [
    "import itertools\n",
    "import time\n",
    "\n",
    "models_best = pd.DataFrame(columns=[\"Rsquared\", \"model\"])\n",
    "\n",
    "tic = time.time()\n",
    "for i in range(1,1+X.shape[1]):\n",
    "    models_best.loc[i] = getBest_model(i)\n",
    "\n",
    "toc = time.time()\n",
    "print(\"Total elapsed time:\", (toc-tic), \"seconds.\")"
   ]
  },
  {
   "cell_type": "code",
   "execution_count": 30,
   "id": "dfd7cb9b",
   "metadata": {},
   "outputs": [
    {
     "data": {
      "image/png": "[encoded data removed]",
      "text/plain": [
       "<Figure size 1440x720 with 4 Axes>"
      ]
     },
     "metadata": {},
     "output_type": "display_data"
    }
   ],
   "source": [
    "def best_sub_plots():\n",
    "    plt.figure(figsize=(20,10))\n",
    "    plt.rcParams.update({'font.size': 18, 'lines.markersize': 10})\n",
    "\n",
    "    # Set up a 2x2 grid so we can look at 4 plots at once\n",
    "    plt.subplot(2, 2, 1)\n",
    "\n",
    "    # We will now plot a red dot to indicate the model with the largest adjusted R^2 statistic.\n",
    "    # The argmax() function can be used to identify the location of the maximum point of a vector\n",
    "    plt.plot(models_best[\"Rsquared\"])\n",
    "    plt.xlabel('# Predictors')\n",
    "    plt.ylabel('Rsquared')\n",
    "\n",
    "    # We will now plot a red dot to indicate the model with the largest adjusted R^2 statistic.\n",
    "    # The argmax() function can be used to identify the location of the maximum point of a vector\n",
    "\n",
    "    rsquared_adj = models_best.apply(lambda row: row[1].rsquared_adj, axis=1)\n",
    "\n",
    "    plt.subplot(2, 2, 2)\n",
    "    plt.plot(rsquared_adj)\n",
    "    plt.plot(1+rsquared_adj.argmax(), rsquared_adj.max(), \"or\")\n",
    "    plt.xlabel('# Predictors')\n",
    "    plt.ylabel('adjusted rsquared')\n",
    "\n",
    "    # We'll do the same for AIC and BIC, this time looking for the models with the SMALLEST statistic\n",
    "    aic = models_best.apply(lambda row: row[1].aic, axis=1)\n",
    "\n",
    "    plt.subplot(2, 2, 3)\n",
    "    plt.plot(aic)\n",
    "    plt.plot(1+aic.argmin(), aic.min(), \"or\")\n",
    "    plt.xlabel('# Predictors')\n",
    "    plt.ylabel('AIC')\n",
    "\n",
    "    bic = models_best.apply(lambda row: row[1].bic, axis=1)\n",
    "\n",
    "    plt.subplot(2, 2, 4)\n",
    "    plt.plot(bic)\n",
    "    plt.plot(1+bic.argmin(), bic.min(), \"or\")\n",
    "    plt.xlabel('# Predictors')\n",
    "    plt.ylabel('BIC')\n",
    "best_sub_plots()"
   ]
  },
  {
   "cell_type": "code",
   "execution_count": 31,
   "id": "3f170dbf",
   "metadata": {},
   "outputs": [
    {
     "data": {
      "text/html": [
       "<table class=\"simpletable\">\n",
       "<caption>OLS Regression Results</caption>\n",
       "<tr>\n",
       "  <th>Dep. Variable:</th>    <td>medianBaseSalary</td> <th>  R-squared:         </th> <td>   0.598</td> \n",
       "</tr>\n",
       "<tr>\n",
       "  <th>Model:</th>                   <td>OLS</td>       <th>  Adj. R-squared:    </th> <td>   0.593</td> \n",
       "</tr>\n",
       "<tr>\n",
       "  <th>Method:</th>             <td>Least Squares</td>  <th>  F-statistic:       </th> <td>   141.0</td> \n",
       "</tr>\n",
       "<tr>\n",
       "  <th>Date:</th>             <td>Sun, 26 Feb 2023</td> <th>  Prob (F-statistic):</th> <td>1.74e-91</td> \n",
       "</tr>\n",
       "<tr>\n",
       "  <th>Time:</th>                 <td>14:43:39</td>     <th>  Log-Likelihood:    </th> <td> -5153.6</td> \n",
       "</tr>\n",
       "<tr>\n",
       "  <th>No. Observations:</th>      <td>   481</td>      <th>  AIC:               </th> <td>1.032e+04</td>\n",
       "</tr>\n",
       "<tr>\n",
       "  <th>Df Residuals:</th>          <td>   475</td>      <th>  BIC:               </th> <td>1.034e+04</td>\n",
       "</tr>\n",
       "<tr>\n",
       "  <th>Df Model:</th>              <td>     5</td>      <th>                     </th>     <td> </td>    \n",
       "</tr>\n",
       "<tr>\n",
       "  <th>Covariance Type:</th>      <td>nonrobust</td>    <th>                     </th>     <td> </td>    \n",
       "</tr>\n",
       "</table>\n",
       "<table class=\"simpletable\">\n",
       "<tr>\n",
       "           <td></td>              <th>coef</th>     <th>std err</th>      <th>t</th>      <th>P>|t|</th>  <th>[0.025</th>    <th>0.975]</th>  \n",
       "</tr>\n",
       "<tr>\n",
       "  <th>Intercept</th>           <td> 1.394e+05</td> <td> 4833.837</td> <td>   28.833</td> <td> 0.000</td> <td>  1.3e+05</td> <td> 1.49e+05</td>\n",
       "</tr>\n",
       "<tr>\n",
       "  <th>Selectivity</th>         <td>-2172.1072</td> <td>  746.340</td> <td>   -2.910</td> <td> 0.004</td> <td>-3638.644</td> <td> -705.570</td>\n",
       "</tr>\n",
       "<tr>\n",
       "  <th>studentFacultyRatio</th> <td> -477.6341</td> <td>  168.097</td> <td>   -2.841</td> <td> 0.005</td> <td> -807.940</td> <td> -147.328</td>\n",
       "</tr>\n",
       "<tr>\n",
       "  <th>undergradPop</th>        <td>   -0.2322</td> <td>    0.064</td> <td>   -3.609</td> <td> 0.000</td> <td>   -0.359</td> <td>   -0.106</td>\n",
       "</tr>\n",
       "<tr>\n",
       "  <th>rank</th>                <td>  -68.5383</td> <td>    4.844</td> <td>  -14.150</td> <td> 0.000</td> <td>  -78.056</td> <td>  -59.021</td>\n",
       "</tr>\n",
       "<tr>\n",
       "  <th>out_of_state_total</th>  <td>    0.1759</td> <td>    0.052</td> <td>    3.399</td> <td> 0.001</td> <td>    0.074</td> <td>    0.278</td>\n",
       "</tr>\n",
       "</table>\n",
       "<table class=\"simpletable\">\n",
       "<tr>\n",
       "  <th>Omnibus:</th>       <td>27.699</td> <th>  Durbin-Watson:     </th> <td>   1.740</td>\n",
       "</tr>\n",
       "<tr>\n",
       "  <th>Prob(Omnibus):</th> <td> 0.000</td> <th>  Jarque-Bera (JB):  </th> <td>  33.992</td>\n",
       "</tr>\n",
       "<tr>\n",
       "  <th>Skew:</th>          <td> 0.517</td> <th>  Prob(JB):          </th> <td>4.16e-08</td>\n",
       "</tr>\n",
       "<tr>\n",
       "  <th>Kurtosis:</th>      <td> 3.792</td> <th>  Cond. No.          </th> <td>5.05e+05</td>\n",
       "</tr>\n",
       "</table><br/><br/>Notes:<br/>[1] Standard Errors assume that the covariance matrix of the errors is correctly specified.<br/>[2] The condition number is large, 5.05e+05. This might indicate that there are<br/>strong multicollinearity or other numerical problems."
      ],
      "text/plain": [
       "<class 'statsmodels.iolib.summary.Summary'>\n",
       "\"\"\"\n",
       "                            OLS Regression Results                            \n",
       "==============================================================================\n",
       "Dep. Variable:       medianBaseSalary   R-squared:                       0.598\n",
       "Model:                            OLS   Adj. R-squared:                  0.593\n",
       "Method:                 Least Squares   F-statistic:                     141.0\n",
       "Date:                Sun, 26 Feb 2023   Prob (F-statistic):           1.74e-91\n",
       "Time:                        14:43:39   Log-Likelihood:                -5153.6\n",
       "No. Observations:                 481   AIC:                         1.032e+04\n",
       "Df Residuals:                     475   BIC:                         1.034e+04\n",
       "Df Model:                           5                                         \n",
       "Covariance Type:            nonrobust                                         \n",
       "=======================================================================================\n",
       "                          coef    std err          t      P>|t|      [0.025      0.975]\n",
       "---------------------------------------------------------------------------------------\n",
       "Intercept            1.394e+05   4833.837     28.833      0.000     1.3e+05    1.49e+05\n",
       "Selectivity         -2172.1072    746.340     -2.910      0.004   -3638.644    -705.570\n",
       "studentFacultyRatio  -477.6341    168.097     -2.841      0.005    -807.940    -147.328\n",
       "undergradPop           -0.2322      0.064     -3.609      0.000      -0.359      -0.106\n",
       "rank                  -68.5383      4.844    -14.150      0.000     -78.056     -59.021\n",
       "out_of_state_total      0.1759      0.052      3.399      0.001       0.074       0.278\n",
       "==============================================================================\n",
       "Omnibus:                       27.699   Durbin-Watson:                   1.740\n",
       "Prob(Omnibus):                  0.000   Jarque-Bera (JB):               33.992\n",
       "Skew:                           0.517   Prob(JB):                     4.16e-08\n",
       "Kurtosis:                       3.792   Cond. No.                     5.05e+05\n",
       "==============================================================================\n",
       "\n",
       "Notes:\n",
       "[1] Standard Errors assume that the covariance matrix of the errors is correctly specified.\n",
       "[2] The condition number is large, 5.05e+05. This might indicate that there are\n",
       "strong multicollinearity or other numerical problems.\n",
       "\"\"\""
      ]
     },
     "execution_count": 31,
     "metadata": {},
     "output_type": "execute_result"
    }
   ],
   "source": [
    "best_subset_model = models_best.loc[5,'model']\n",
    "models_best.loc[5,'model'].summary()"
   ]
  },
  {
   "cell_type": "code",
   "execution_count": null,
   "id": "263c644a",
   "metadata": {},
   "outputs": [],
   "source": [
    "# dropping totalGrantAid did not seem to change R^2 at all. Insignificant variable"
   ]
  },
  {
   "cell_type": "markdown",
   "id": "78beeefc",
   "metadata": {},
   "source": [
    "# with interaction"
   ]
  },
  {
   "cell_type": "code",
   "execution_count": 23,
   "id": "e57226b0",
   "metadata": {},
   "outputs": [],
   "source": [
    "# wanted to run best subset selection with interactions but it took way too long"
   ]
  },
  {
   "cell_type": "code",
   "execution_count": 32,
   "id": "cda594f2",
   "metadata": {},
   "outputs": [
    {
     "data": {
      "text/html": [
       "<div>\n",
       "<style scoped>\n",
       "    .dataframe tbody tr th:only-of-type {\n",
       "        vertical-align: middle;\n",
       "    }\n",
       "\n",
       "    .dataframe tbody tr th {\n",
       "        vertical-align: top;\n",
       "    }\n",
       "\n",
       "    .dataframe thead th {\n",
       "        text-align: right;\n",
       "    }\n",
       "</style>\n",
       "<table border=\"1\" class=\"dataframe\">\n",
       "  <thead>\n",
       "    <tr style=\"text-align: right;\">\n",
       "      <th></th>\n",
       "      <th>rank</th>\n",
       "      <th>medianBaseSalary</th>\n",
       "      <th>studentFacultyRatio</th>\n",
       "      <th>totalStudentPop</th>\n",
       "      <th>undergradPop</th>\n",
       "      <th>totalGrantAid</th>\n",
       "      <th>percentOfStudentsFinAid</th>\n",
       "      <th>percentOfStudentsGrant</th>\n",
       "      <th>Selectivity</th>\n",
       "      <th>out_of_state_total</th>\n",
       "    </tr>\n",
       "  </thead>\n",
       "  <tbody>\n",
       "    <tr>\n",
       "      <th>rank</th>\n",
       "      <td>1.000000</td>\n",
       "      <td>-0.645332</td>\n",
       "      <td>0.104158</td>\n",
       "      <td>-0.368774</td>\n",
       "      <td>-0.301877</td>\n",
       "      <td>-0.467038</td>\n",
       "      <td>0.651516</td>\n",
       "      <td>0.605133</td>\n",
       "      <td>0.427657</td>\n",
       "      <td>-0.417975</td>\n",
       "    </tr>\n",
       "    <tr>\n",
       "      <th>medianBaseSalary</th>\n",
       "      <td>-0.645332</td>\n",
       "      <td>1.000000</td>\n",
       "      <td>-0.443229</td>\n",
       "      <td>-0.074030</td>\n",
       "      <td>-0.156016</td>\n",
       "      <td>0.202065</td>\n",
       "      <td>-0.492029</td>\n",
       "      <td>-0.428602</td>\n",
       "      <td>-0.486363</td>\n",
       "      <td>0.594859</td>\n",
       "    </tr>\n",
       "    <tr>\n",
       "      <th>studentFacultyRatio</th>\n",
       "      <td>0.104158</td>\n",
       "      <td>-0.443229</td>\n",
       "      <td>1.000000</td>\n",
       "      <td>0.577120</td>\n",
       "      <td>0.664584</td>\n",
       "      <td>0.147832</td>\n",
       "      <td>0.124652</td>\n",
       "      <td>0.042722</td>\n",
       "      <td>0.339866</td>\n",
       "      <td>-0.660050</td>\n",
       "    </tr>\n",
       "    <tr>\n",
       "      <th>totalStudentPop</th>\n",
       "      <td>-0.368774</td>\n",
       "      <td>-0.074030</td>\n",
       "      <td>0.577120</td>\n",
       "      <td>1.000000</td>\n",
       "      <td>0.973690</td>\n",
       "      <td>0.659760</td>\n",
       "      <td>-0.204889</td>\n",
       "      <td>-0.261773</td>\n",
       "      <td>0.078069</td>\n",
       "      <td>-0.297881</td>\n",
       "    </tr>\n",
       "    <tr>\n",
       "      <th>undergradPop</th>\n",
       "      <td>-0.301877</td>\n",
       "      <td>-0.156016</td>\n",
       "      <td>0.664584</td>\n",
       "      <td>0.973690</td>\n",
       "      <td>1.000000</td>\n",
       "      <td>0.588302</td>\n",
       "      <td>-0.161342</td>\n",
       "      <td>-0.227700</td>\n",
       "      <td>0.130711</td>\n",
       "      <td>-0.383983</td>\n",
       "    </tr>\n",
       "    <tr>\n",
       "      <th>totalGrantAid</th>\n",
       "      <td>-0.467038</td>\n",
       "      <td>0.202065</td>\n",
       "      <td>0.147832</td>\n",
       "      <td>0.659760</td>\n",
       "      <td>0.588302</td>\n",
       "      <td>1.000000</td>\n",
       "      <td>-0.109698</td>\n",
       "      <td>-0.081362</td>\n",
       "      <td>-0.103527</td>\n",
       "      <td>0.216385</td>\n",
       "    </tr>\n",
       "    <tr>\n",
       "      <th>percentOfStudentsFinAid</th>\n",
       "      <td>0.651516</td>\n",
       "      <td>-0.492029</td>\n",
       "      <td>0.124652</td>\n",
       "      <td>-0.204889</td>\n",
       "      <td>-0.161342</td>\n",
       "      <td>-0.109698</td>\n",
       "      <td>1.000000</td>\n",
       "      <td>0.958937</td>\n",
       "      <td>0.512090</td>\n",
       "      <td>-0.307817</td>\n",
       "    </tr>\n",
       "    <tr>\n",
       "      <th>percentOfStudentsGrant</th>\n",
       "      <td>0.605133</td>\n",
       "      <td>-0.428602</td>\n",
       "      <td>0.042722</td>\n",
       "      <td>-0.261773</td>\n",
       "      <td>-0.227700</td>\n",
       "      <td>-0.081362</td>\n",
       "      <td>0.958937</td>\n",
       "      <td>1.000000</td>\n",
       "      <td>0.444521</td>\n",
       "      <td>-0.178700</td>\n",
       "    </tr>\n",
       "    <tr>\n",
       "      <th>Selectivity</th>\n",
       "      <td>0.427657</td>\n",
       "      <td>-0.486363</td>\n",
       "      <td>0.339866</td>\n",
       "      <td>0.078069</td>\n",
       "      <td>0.130711</td>\n",
       "      <td>-0.103527</td>\n",
       "      <td>0.512090</td>\n",
       "      <td>0.444521</td>\n",
       "      <td>1.000000</td>\n",
       "      <td>-0.465824</td>\n",
       "    </tr>\n",
       "    <tr>\n",
       "      <th>out_of_state_total</th>\n",
       "      <td>-0.417975</td>\n",
       "      <td>0.594859</td>\n",
       "      <td>-0.660050</td>\n",
       "      <td>-0.297881</td>\n",
       "      <td>-0.383983</td>\n",
       "      <td>0.216385</td>\n",
       "      <td>-0.307817</td>\n",
       "      <td>-0.178700</td>\n",
       "      <td>-0.465824</td>\n",
       "      <td>1.000000</td>\n",
       "    </tr>\n",
       "  </tbody>\n",
       "</table>\n",
       "</div>"
      ],
      "text/plain": [
       "                             rank  medianBaseSalary  studentFacultyRatio  \\\n",
       "rank                     1.000000         -0.645332             0.104158   \n",
       "medianBaseSalary        -0.645332          1.000000            -0.443229   \n",
       "studentFacultyRatio      0.104158         -0.443229             1.000000   \n",
       "totalStudentPop         -0.368774         -0.074030             0.577120   \n",
       "undergradPop            -0.301877         -0.156016             0.664584   \n",
       "totalGrantAid           -0.467038          0.202065             0.147832   \n",
       "percentOfStudentsFinAid  0.651516         -0.492029             0.124652   \n",
       "percentOfStudentsGrant   0.605133         -0.428602             0.042722   \n",
       "Selectivity              0.427657         -0.486363             0.339866   \n",
       "out_of_state_total      -0.417975          0.594859            -0.660050   \n",
       "\n",
       "                         totalStudentPop  undergradPop  totalGrantAid  \\\n",
       "rank                           -0.368774     -0.301877      -0.467038   \n",
       "medianBaseSalary               -0.074030     -0.156016       0.202065   \n",
       "studentFacultyRatio             0.577120      0.664584       0.147832   \n",
       "totalStudentPop                 1.000000      0.973690       0.659760   \n",
       "undergradPop                    0.973690      1.000000       0.588302   \n",
       "totalGrantAid                   0.659760      0.588302       1.000000   \n",
       "percentOfStudentsFinAid        -0.204889     -0.161342      -0.109698   \n",
       "percentOfStudentsGrant         -0.261773     -0.227700      -0.081362   \n",
       "Selectivity                     0.078069      0.130711      -0.103527   \n",
       "out_of_state_total             -0.297881     -0.383983       0.216385   \n",
       "\n",
       "                         percentOfStudentsFinAid  percentOfStudentsGrant  \\\n",
       "rank                                    0.651516                0.605133   \n",
       "medianBaseSalary                       -0.492029               -0.428602   \n",
       "studentFacultyRatio                     0.124652                0.042722   \n",
       "totalStudentPop                        -0.204889               -0.261773   \n",
       "undergradPop                           -0.161342               -0.227700   \n",
       "totalGrantAid                          -0.109698               -0.081362   \n",
       "percentOfStudentsFinAid                 1.000000                0.958937   \n",
       "percentOfStudentsGrant                  0.958937                1.000000   \n",
       "Selectivity                             0.512090                0.444521   \n",
       "out_of_state_total                     -0.307817               -0.178700   \n",
       "\n",
       "                         Selectivity  out_of_state_total  \n",
       "rank                        0.427657           -0.417975  \n",
       "medianBaseSalary           -0.486363            0.594859  \n",
       "studentFacultyRatio         0.339866           -0.660050  \n",
       "totalStudentPop             0.078069           -0.297881  \n",
       "undergradPop                0.130711           -0.383983  \n",
       "totalGrantAid              -0.103527            0.216385  \n",
       "percentOfStudentsFinAid     0.512090           -0.307817  \n",
       "percentOfStudentsGrant      0.444521           -0.178700  \n",
       "Selectivity                 1.000000           -0.465824  \n",
       "out_of_state_total         -0.465824            1.000000  "
      ]
     },
     "execution_count": 32,
     "metadata": {},
     "output_type": "execute_result"
    }
   ],
   "source": [
    "data.corr()"
   ]
  },
  {
   "cell_type": "code",
   "execution_count": null,
   "id": "3691588f",
   "metadata": {},
   "outputs": [],
   "source": [
    "# out_of_state_total & studentFacultyRatio seem to be highly correlated"
   ]
  },
  {
   "cell_type": "code",
   "execution_count": 36,
   "id": "9baf7c48",
   "metadata": {},
   "outputs": [],
   "source": [
    "#model2 = smf.ols('medianBaseSalary~Selectivity+undergradPop+rank+(out_of_state_total*studentFacultyRatio)', data = data).fit()\n",
    "#model2.summary()"
   ]
  },
  {
   "cell_type": "code",
   "execution_count": 37,
   "id": "869d10f4",
   "metadata": {},
   "outputs": [],
   "source": [
    "# did not change much"
   ]
  },
  {
   "cell_type": "code",
   "execution_count": null,
   "id": "a63bc139",
   "metadata": {},
   "outputs": [],
   "source": [
    "#studentFacultyRatio & undergradPop seem to be highly correlated"
   ]
  },
  {
   "cell_type": "code",
   "execution_count": 44,
   "id": "a1d8d1c4",
   "metadata": {},
   "outputs": [],
   "source": [
    "#model3 = smf.ols('medianBaseSalary~Selectivity+rank+out_of_state_total+(studentFacultyRatio*undergradPop)+(out_of_state_total*studentFacultyRatio)', data = data).fit()\n",
    "#model3.summary()"
   ]
  },
  {
   "cell_type": "code",
   "execution_count": 42,
   "id": "ab48bf7d",
   "metadata": {},
   "outputs": [],
   "source": [
    "# both variables fairly insignificant"
   ]
  },
  {
   "cell_type": "markdown",
   "id": "89c2ca66",
   "metadata": {},
   "source": [
    "# variable transformations"
   ]
  },
  {
   "cell_type": "code",
   "execution_count": 76,
   "id": "2ac62f41",
   "metadata": {},
   "outputs": [
    {
     "data": {
      "image/png": "[encoded data removed]",
      "text/plain": [
       "<Figure size 432x288 with 1 Axes>"
      ]
     },
     "metadata": {},
     "output_type": "display_data"
    }
   ],
   "source": [
    "ax = sns.boxplot(x = data.Selectivity, y =data.medianBaseSalary)\n",
    "#plt.xlabel('Selectivity')\n",
    "#plt.ylabel('medianBaseSalary')"
   ]
  },
  {
   "cell_type": "code",
   "execution_count": null,
   "id": "186b00d6",
   "metadata": {},
   "outputs": [],
   "source": [
    "# 1 = most competitive, 2 = highly competitive, 3 = very competitive"
   ]
  },
  {
   "cell_type": "code",
   "execution_count": 52,
   "id": "18193e6f",
   "metadata": {},
   "outputs": [
    {
     "data": {
      "text/plain": [
       "Text(0, 0.5, 'Median Base Salary')"
      ]
     },
     "execution_count": 52,
     "metadata": {},
     "output_type": "execute_result"
    },
    {
     "data": {
      "image/png": "[encoded data removed]",
      "text/plain": [
       "<Figure size 432x288 with 1 Axes>"
      ]
     },
     "metadata": {},
     "output_type": "display_data"
    }
   ],
   "source": [
    "ax = sns.regplot(x = data.undergradPop, y = data.medianBaseSalary,color = 'orange', line_kws = {'color':'blue'})\n",
    "plt.xlabel('Undergrad Pop')\n",
    "plt.ylabel('Median Base Salary')"
   ]
  },
  {
   "cell_type": "code",
   "execution_count": 57,
   "id": "bfc8bf4d",
   "metadata": {},
   "outputs": [],
   "source": [
    "#ax = sns.regplot(x = data.out_of_state_total, y =data.medianBaseSalary,color = 'orange', line_kws = {'color':'blue'})\n",
    "#plt.xlabel('Tuition')\n",
    "#plt.ylabel('Median Base Salary')"
   ]
  },
  {
   "cell_type": "code",
   "execution_count": 58,
   "id": "a159d78d",
   "metadata": {},
   "outputs": [],
   "source": [
    "#ax = sns.regplot(x = data.studentFacultyRatio, y =data.medianBaseSalary,color = 'orange', line_kws = {'color':'blue'})\n",
    "#plt.xlabel('Student Faculty Ratio')\n",
    "#plt.ylabel('Median Base Salary')"
   ]
  },
  {
   "cell_type": "code",
   "execution_count": 59,
   "id": "86a32102",
   "metadata": {},
   "outputs": [],
   "source": [
    "# seems that undergrad Pop is the variable with least linearity of the variables"
   ]
  },
  {
   "cell_type": "code",
   "execution_count": 111,
   "id": "ac3f126c",
   "metadata": {},
   "outputs": [
    {
     "data": {
      "image/png": "[encoded data removed]",
      "text/plain": [
       "<Figure size 432x288 with 1 Axes>"
      ]
     },
     "metadata": {},
     "output_type": "display_data"
    }
   ],
   "source": [
    "sns.scatterplot(x = 'studentFacultyRatio', y = 'medianBaseSalary', data = data, color = 'orange')\n",
    "fit = np.polyfit(data.studentFacultyRatio, data.medianBaseSalary, 2)\n",
    "\n",
    "quad_func = np.poly1d(fit)\n",
    "x_fit = np.linspace(0, 30, 100)\n",
    "y_fit = quad_func(x_fit)\n",
    "plt.plot(x_fit, y_fit, 'b')\n",
    "plt.show()"
   ]
  },
  {
   "cell_type": "code",
   "execution_count": null,
   "id": "00d684c2",
   "metadata": {},
   "outputs": [],
   "source": [
    "# relationship between studentFacultyRatio and medianBaseSalary looks quadratic"
   ]
  },
  {
   "cell_type": "markdown",
   "id": "cc38eba6",
   "metadata": {},
   "source": [
    "# multiple linear regression"
   ]
  },
  {
   "cell_type": "code",
   "execution_count": 112,
   "id": "4212e58f",
   "metadata": {
    "scrolled": true
   },
   "outputs": [
    {
     "data": {
      "text/html": [
       "<table class=\"simpletable\">\n",
       "<caption>OLS Regression Results</caption>\n",
       "<tr>\n",
       "  <th>Dep. Variable:</th>    <td>medianBaseSalary</td> <th>  R-squared:         </th> <td>   0.607</td> \n",
       "</tr>\n",
       "<tr>\n",
       "  <th>Model:</th>                   <td>OLS</td>       <th>  Adj. R-squared:    </th> <td>   0.602</td> \n",
       "</tr>\n",
       "<tr>\n",
       "  <th>Method:</th>             <td>Least Squares</td>  <th>  F-statistic:       </th> <td>   121.8</td> \n",
       "</tr>\n",
       "<tr>\n",
       "  <th>Date:</th>             <td>Sun, 26 Feb 2023</td> <th>  Prob (F-statistic):</th> <td>9.87e-93</td> \n",
       "</tr>\n",
       "<tr>\n",
       "  <th>Time:</th>                 <td>22:56:39</td>     <th>  Log-Likelihood:    </th> <td> -5148.1</td> \n",
       "</tr>\n",
       "<tr>\n",
       "  <th>No. Observations:</th>      <td>   481</td>      <th>  AIC:               </th> <td>1.031e+04</td>\n",
       "</tr>\n",
       "<tr>\n",
       "  <th>Df Residuals:</th>          <td>   474</td>      <th>  BIC:               </th> <td>1.034e+04</td>\n",
       "</tr>\n",
       "<tr>\n",
       "  <th>Df Model:</th>              <td>     6</td>      <th>                     </th>     <td> </td>    \n",
       "</tr>\n",
       "<tr>\n",
       "  <th>Covariance Type:</th>      <td>nonrobust</td>    <th>                     </th>     <td> </td>    \n",
       "</tr>\n",
       "</table>\n",
       "<table class=\"simpletable\">\n",
       "<tr>\n",
       "               <td></td>                  <th>coef</th>     <th>std err</th>      <th>t</th>      <th>P>|t|</th>  <th>[0.025</th>    <th>0.975]</th>  \n",
       "</tr>\n",
       "<tr>\n",
       "  <th>Intercept</th>                   <td> 1.689e+05</td> <td> 7935.523</td> <td>   21.290</td> <td> 0.000</td> <td> 1.53e+05</td> <td> 1.85e+05</td>\n",
       "</tr>\n",
       "<tr>\n",
       "  <th>Selectivity</th>                 <td>-1703.0334</td> <td>  763.598</td> <td>   -2.230</td> <td> 0.026</td> <td>-3203.489</td> <td> -202.578</td>\n",
       "</tr>\n",
       "<tr>\n",
       "  <th>studentFacultyRatio</th>         <td>-1453.2087</td> <td>  577.130</td> <td>   -2.518</td> <td> 0.012</td> <td>-2587.259</td> <td> -319.159</td>\n",
       "</tr>\n",
       "<tr>\n",
       "  <th>I(studentFacultyRatio ** 2)</th> <td>   33.6545</td> <td>   16.637</td> <td>    2.023</td> <td> 0.044</td> <td>    0.962</td> <td>   66.347</td>\n",
       "</tr>\n",
       "<tr>\n",
       "  <th>np.log(undergradPop)</th>        <td>-3044.6356</td> <td>  772.830</td> <td>   -3.940</td> <td> 0.000</td> <td>-4563.232</td> <td>-1526.039</td>\n",
       "</tr>\n",
       "<tr>\n",
       "  <th>rank</th>                        <td>  -68.8255</td> <td>    5.058</td> <td>  -13.608</td> <td> 0.000</td> <td>  -78.764</td> <td>  -58.887</td>\n",
       "</tr>\n",
       "<tr>\n",
       "  <th>out_of_state_total</th>          <td>    0.1718</td> <td>    0.051</td> <td>    3.356</td> <td> 0.001</td> <td>    0.071</td> <td>    0.272</td>\n",
       "</tr>\n",
       "</table>\n",
       "<table class=\"simpletable\">\n",
       "<tr>\n",
       "  <th>Omnibus:</th>       <td>22.001</td> <th>  Durbin-Watson:     </th> <td>   1.713</td>\n",
       "</tr>\n",
       "<tr>\n",
       "  <th>Prob(Omnibus):</th> <td> 0.000</td> <th>  Jarque-Bera (JB):  </th> <td>  27.751</td>\n",
       "</tr>\n",
       "<tr>\n",
       "  <th>Skew:</th>          <td> 0.423</td> <th>  Prob(JB):          </th> <td>9.42e-07</td>\n",
       "</tr>\n",
       "<tr>\n",
       "  <th>Kurtosis:</th>      <td> 3.819</td> <th>  Cond. No.          </th> <td>8.22e+05</td>\n",
       "</tr>\n",
       "</table><br/><br/>Notes:<br/>[1] Standard Errors assume that the covariance matrix of the errors is correctly specified.<br/>[2] The condition number is large, 8.22e+05. This might indicate that there are<br/>strong multicollinearity or other numerical problems."
      ],
      "text/plain": [
       "<class 'statsmodels.iolib.summary.Summary'>\n",
       "\"\"\"\n",
       "                            OLS Regression Results                            \n",
       "==============================================================================\n",
       "Dep. Variable:       medianBaseSalary   R-squared:                       0.607\n",
       "Model:                            OLS   Adj. R-squared:                  0.602\n",
       "Method:                 Least Squares   F-statistic:                     121.8\n",
       "Date:                Sun, 26 Feb 2023   Prob (F-statistic):           9.87e-93\n",
       "Time:                        22:56:39   Log-Likelihood:                -5148.1\n",
       "No. Observations:                 481   AIC:                         1.031e+04\n",
       "Df Residuals:                     474   BIC:                         1.034e+04\n",
       "Df Model:                           6                                         \n",
       "Covariance Type:            nonrobust                                         \n",
       "===============================================================================================\n",
       "                                  coef    std err          t      P>|t|      [0.025      0.975]\n",
       "-----------------------------------------------------------------------------------------------\n",
       "Intercept                    1.689e+05   7935.523     21.290      0.000    1.53e+05    1.85e+05\n",
       "Selectivity                 -1703.0334    763.598     -2.230      0.026   -3203.489    -202.578\n",
       "studentFacultyRatio         -1453.2087    577.130     -2.518      0.012   -2587.259    -319.159\n",
       "I(studentFacultyRatio ** 2)    33.6545     16.637      2.023      0.044       0.962      66.347\n",
       "np.log(undergradPop)        -3044.6356    772.830     -3.940      0.000   -4563.232   -1526.039\n",
       "rank                          -68.8255      5.058    -13.608      0.000     -78.764     -58.887\n",
       "out_of_state_total              0.1718      0.051      3.356      0.001       0.071       0.272\n",
       "==============================================================================\n",
       "Omnibus:                       22.001   Durbin-Watson:                   1.713\n",
       "Prob(Omnibus):                  0.000   Jarque-Bera (JB):               27.751\n",
       "Skew:                           0.423   Prob(JB):                     9.42e-07\n",
       "Kurtosis:                       3.819   Cond. No.                     8.22e+05\n",
       "==============================================================================\n",
       "\n",
       "Notes:\n",
       "[1] Standard Errors assume that the covariance matrix of the errors is correctly specified.\n",
       "[2] The condition number is large, 8.22e+05. This might indicate that there are\n",
       "strong multicollinearity or other numerical problems.\n",
       "\"\"\""
      ]
     },
     "execution_count": 112,
     "metadata": {},
     "output_type": "execute_result"
    }
   ],
   "source": [
    "model2 = smf.ols('medianBaseSalary~Selectivity+studentFacultyRatio+I(studentFacultyRatio**2)+np.log(undergradPop)+rank+out_of_state_total', data = data).fit()\n",
    "model2.summary()\n",
    "# log transformation - increased R-squared most"
   ]
  },
  {
   "cell_type": "markdown",
   "id": "8b45fcec",
   "metadata": {},
   "source": [
    "# checking model assumptions"
   ]
  },
  {
   "cell_type": "code",
   "execution_count": 113,
   "id": "3d16305d",
   "metadata": {
    "scrolled": true
   },
   "outputs": [
    {
     "data": {
      "image/png": "[encoded data removed]",
      "text/plain": [
       "<Figure size 432x288 with 1 Axes>"
      ]
     },
     "metadata": {},
     "output_type": "display_data"
    }
   ],
   "source": [
    "ax = sns.scatterplot(x = model2.fittedvalues, y=model2.resid,color = 'orange')\n",
    "sns.lineplot(x = [90000, 150000],y = [0,0],color = 'blue')\n",
    "plt.xlabel('Fitted values')\n",
    "plt.ylabel('Residuals')\n",
    "ax.yaxis.set_major_formatter('${x:,.0f}')\n",
    "ax.xaxis.set_major_formatter('${x:,.0f}')"
   ]
  },
  {
   "cell_type": "code",
   "execution_count": 71,
   "id": "e736db2b",
   "metadata": {},
   "outputs": [],
   "source": [
    "# assumption of linearity seems to be satisfied - no transformations needed"
   ]
  },
  {
   "cell_type": "code",
   "execution_count": 72,
   "id": "73733988",
   "metadata": {},
   "outputs": [],
   "source": [
    "# seems to be constant variance of terms - no transformations needed"
   ]
  },
  {
   "cell_type": "code",
   "execution_count": null,
   "id": "64738f5f",
   "metadata": {},
   "outputs": [],
   "source": []
  }
 ],
 "metadata": {
  "kernelspec": {
   "display_name": "Python 3",
   "language": "python",
   "name": "python3"
  },
  "language_info": {
   "codemirror_mode": {
    "name": "ipython",
    "version": 3
   },
   "file_extension": ".py",
   "mimetype": "text/x-python",
   "name": "python",
   "nbconvert_exporter": "python",
   "pygments_lexer": "ipython3",
   "version": "3.8.8"
  }
 },
 "nbformat": 4,
 "nbformat_minor": 5
}
