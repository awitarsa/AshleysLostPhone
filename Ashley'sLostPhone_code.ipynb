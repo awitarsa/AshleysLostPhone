{
 "cells": [
  {
   "cell_type": "raw",
   "id": "33dd6c4c",
   "metadata": {},
   "source": [
    "---\n",
    "title: \"Project Code\"\n",
    "subtitle: Team name\n",
    "author: Author 1, Author 2, Author 3, and Author 4 \n",
    "date: 02/27/2023\n",
    "number-sections: true\n",
    "abstract: _This file contains the code for the project on <>, as part of the STAT303-2 course in Winter 2023_.\n",
    "format: \n",
    "  html:\n",
    "    toc: true\n",
    "    toc-title: Contents\n",
    "    self-contained: true\n",
    "    font-size: 100%\n",
    "    toc-depth: 4\n",
    "    mainfont: serif\n",
    "jupyter: python3\n",
    "---"
   ]
  },
  {
   "cell_type": "markdown",
   "id": "fe7ea9bb",
   "metadata": {},
   "source": [
    "## Data quality check / cleaning / preparation \n",
    "\n",
    "Put code with comments. The comments should explain the code such that it can be easily understood. You may put text *(in a markdown cell)* before a large chunk of code to explain the overall purpose of the code, if it is not intuitive. **Put the name of the person / persons who contributed to each code chunk / set of code chunks.** An example is given below."
   ]
  },
  {
   "cell_type": "markdown",
   "id": "d1561829",
   "metadata": {},
   "source": [
    "### Data cleaning\n",
    "*By Kaylee Mo*\n",
    "\n",
    "To start we had to merge our 3 datasets\n",
    "\n",
    "1. We first decided to left merge the Tutition and Barron's Selectivity datasets with the Top Colleges dataset. We decided to do left merge because Top Colleges had the most colleges we were interested in. \n",
    "\n",
    "2. We then ran into a problem where we couldn't left merge with the typical pandas left merge because the college names were not exact. For example, UC Berkeley was also University of California, Berkeley in another dataset. We thus had to import FuzzyMatcher. Fuzzymatcher takes the 2 college names and based on their similarity, creates a score. Fuzzymatcher then uses a threshold, and if that score is above the threshold, the 2 college names are merged together. \n",
    "\n",
    "3. Lastly, there were many variables in the final dataset. We did initial cleaning where we dropped the variables where we knew we were not interested in. For example, we did not need the description of the colleges, the phone number and website of the college, and more. \n",
    "\n",
    "The code below implements the above cleaning."
   ]
  },
  {
   "cell_type": "code",
   "execution_count": 4,
   "id": "46f73626",
   "metadata": {},
   "outputs": [],
   "source": [
    "import pandas as pd\n",
    "import seaborn as sns\n",
    "import matplotlib.pyplot as plt\n",
    "import statsmodels.formula.api as smf\n",
    "import numpy.ma as ma\n",
    "import numpy as np\n",
    "import fuzzymatcher\n",
    "import statsmodels.formula.api as sm\n",
    "\n",
    "top_colleges_list = pd.read_csv('top_colleges_2022.csv')\n",
    "barrons = pd.read_csv('Barrons College List.csv')\n",
    "tuition = pd.read_csv('tuition_cost.csv')\n",
    "tuition = tuition.drop(['state', 'state_code', 'type', 'degree_length',\n",
    "       'room_and_board', 'in_state_tuition', 'in_state_total', 'out_of_state_total'], axis = 1)\n",
    "barrons.columns = barrons.columns.str.rstrip()\n",
    "barrons['College Name'] = barrons['College Name'].astype(str)\n",
    "barrons['College Name'] = barrons['College Name'].apply(lambda x: x.strip())\n",
    "data = fuzzymatcher.fuzzy_left_join(top_colleges_list, barrons, ['organizationName'], ['College Name'])\n",
    "data = data.drop(['best_match_score', '__id_left', '__id_right','description', 'longitude', 'latitude', 'website', 'phoneNumber', 'carnegieClassification', 'studentPopulation', 'College Name', 'City and State'], axis = 1)\n",
    "data2 = fuzzymatcher.fuzzy_left_join(data, tuition, ['organizationName'], ['name'])\n",
    "data = data2.drop(['best_match_score', '__id_left', '__id_right','yearFounded', 'stateCode', 'name'], axis = 1)"
   ]
  },
  {
   "cell_type": "markdown",
   "id": "db149d8b",
   "metadata": {},
   "source": [
    "### Data quality check\n",
    "*By Kaylee Mo*"
   ]
  },
  {
   "cell_type": "markdown",
   "id": "fbc82e7f",
   "metadata": {},
   "source": [
    "The code below visualizes the distribution of all the variables in the dataset, and their association with the response."
   ]
  },
  {
   "cell_type": "code",
   "execution_count": 5,
   "id": "5955618d",
   "metadata": {},
   "outputs": [
    {
     "data": {
      "text/html": [
       "<div>\n",
       "<style scoped>\n",
       "    .dataframe tbody tr th:only-of-type {\n",
       "        vertical-align: middle;\n",
       "    }\n",
       "\n",
       "    .dataframe tbody tr th {\n",
       "        vertical-align: top;\n",
       "    }\n",
       "\n",
       "    .dataframe thead th {\n",
       "        text-align: right;\n",
       "    }\n",
       "</style>\n",
       "<table border=\"1\" class=\"dataframe\">\n",
       "  <thead>\n",
       "    <tr style=\"text-align: right;\">\n",
       "      <th></th>\n",
       "      <th>medianBaseSalary</th>\n",
       "      <th>rank</th>\n",
       "      <th>studentFacultyRatio</th>\n",
       "      <th>undergradPop</th>\n",
       "      <th>out_of_state_tuition</th>\n",
       "      <th>Selectivity</th>\n",
       "      <th>totalGrantAid</th>\n",
       "    </tr>\n",
       "  </thead>\n",
       "  <tbody>\n",
       "    <tr>\n",
       "      <th>count</th>\n",
       "      <td>491.000000</td>\n",
       "      <td>498.000000</td>\n",
       "      <td>498.000000</td>\n",
       "      <td>498.000000</td>\n",
       "      <td>498.000000</td>\n",
       "      <td>498.000000</td>\n",
       "      <td>4.950000e+02</td>\n",
       "    </tr>\n",
       "    <tr>\n",
       "      <th>mean</th>\n",
       "      <td>116382.077393</td>\n",
       "      <td>249.485944</td>\n",
       "      <td>14.120482</td>\n",
       "      <td>12075.550201</td>\n",
       "      <td>36441.395582</td>\n",
       "      <td>2.255020</td>\n",
       "      <td>2.491186e+07</td>\n",
       "    </tr>\n",
       "    <tr>\n",
       "      <th>std</th>\n",
       "      <td>17161.769465</td>\n",
       "      <td>143.899350</td>\n",
       "      <td>5.203074</td>\n",
       "      <td>12628.161452</td>\n",
       "      <td>13053.807507</td>\n",
       "      <td>0.803178</td>\n",
       "      <td>1.936898e+07</td>\n",
       "    </tr>\n",
       "    <tr>\n",
       "      <th>min</th>\n",
       "      <td>77300.000000</td>\n",
       "      <td>1.000000</td>\n",
       "      <td>3.000000</td>\n",
       "      <td>421.000000</td>\n",
       "      <td>4105.000000</td>\n",
       "      <td>1.000000</td>\n",
       "      <td>2.307030e+05</td>\n",
       "    </tr>\n",
       "    <tr>\n",
       "      <th>25%</th>\n",
       "      <td>104300.000000</td>\n",
       "      <td>125.250000</td>\n",
       "      <td>10.000000</td>\n",
       "      <td>2613.750000</td>\n",
       "      <td>25159.000000</td>\n",
       "      <td>2.000000</td>\n",
       "      <td>1.219794e+07</td>\n",
       "    </tr>\n",
       "    <tr>\n",
       "      <th>50%</th>\n",
       "      <td>112800.000000</td>\n",
       "      <td>249.500000</td>\n",
       "      <td>13.500000</td>\n",
       "      <td>6844.500000</td>\n",
       "      <td>36480.500000</td>\n",
       "      <td>2.000000</td>\n",
       "      <td>1.904380e+07</td>\n",
       "    </tr>\n",
       "    <tr>\n",
       "      <th>75%</th>\n",
       "      <td>125000.000000</td>\n",
       "      <td>373.750000</td>\n",
       "      <td>17.000000</td>\n",
       "      <td>18655.250000</td>\n",
       "      <td>48431.750000</td>\n",
       "      <td>3.000000</td>\n",
       "      <td>3.218453e+07</td>\n",
       "    </tr>\n",
       "    <tr>\n",
       "      <th>max</th>\n",
       "      <td>173700.000000</td>\n",
       "      <td>498.000000</td>\n",
       "      <td>49.000000</td>\n",
       "      <td>84202.000000</td>\n",
       "      <td>59985.000000</td>\n",
       "      <td>3.000000</td>\n",
       "      <td>1.575583e+08</td>\n",
       "    </tr>\n",
       "  </tbody>\n",
       "</table>\n",
       "</div>"
      ],
      "text/plain": [
       "       medianBaseSalary        rank  studentFacultyRatio  undergradPop  \\\n",
       "count        491.000000  498.000000           498.000000    498.000000   \n",
       "mean      116382.077393  249.485944            14.120482  12075.550201   \n",
       "std        17161.769465  143.899350             5.203074  12628.161452   \n",
       "min        77300.000000    1.000000             3.000000    421.000000   \n",
       "25%       104300.000000  125.250000            10.000000   2613.750000   \n",
       "50%       112800.000000  249.500000            13.500000   6844.500000   \n",
       "75%       125000.000000  373.750000            17.000000  18655.250000   \n",
       "max       173700.000000  498.000000            49.000000  84202.000000   \n",
       "\n",
       "       out_of_state_tuition  Selectivity  totalGrantAid  \n",
       "count            498.000000   498.000000   4.950000e+02  \n",
       "mean           36441.395582     2.255020   2.491186e+07  \n",
       "std            13053.807507     0.803178   1.936898e+07  \n",
       "min             4105.000000     1.000000   2.307030e+05  \n",
       "25%            25159.000000     2.000000   1.219794e+07  \n",
       "50%            36480.500000     2.000000   1.904380e+07  \n",
       "75%            48431.750000     3.000000   3.218453e+07  \n",
       "max            59985.000000     3.000000   1.575583e+08  "
      ]
     },
     "execution_count": 5,
     "metadata": {},
     "output_type": "execute_result"
    }
   ],
   "source": [
    "#Distribution of variables\n",
    "data[['medianBaseSalary', 'rank', 'studentFacultyRatio', 'undergradPop', 'out_of_state_tuition', 'Selectivity', 'totalGrantAid']].describe()"
   ]
  },
  {
   "cell_type": "code",
   "execution_count": 9,
   "id": "06c7d5ae",
   "metadata": {},
   "outputs": [
    {
     "data": {
      "text/plain": [
       "3.0    233\n",
       "2.0    141\n",
       "1.0    107\n",
       "Name: Selectivity, dtype: int64"
      ]
     },
     "execution_count": 9,
     "metadata": {},
     "output_type": "execute_result"
    }
   ],
   "source": [
    "# Distribution of our 1 categorical variable Selectivity (values of 1,2,3 for most selective to least selective)\n",
    "data.Selectivity.value_counts()"
   ]
  },
  {
   "cell_type": "code",
   "execution_count": 6,
   "id": "e389f4ef",
   "metadata": {},
   "outputs": [
    {
     "data": {
      "text/html": [
       "<div>\n",
       "<style scoped>\n",
       "    .dataframe tbody tr th:only-of-type {\n",
       "        vertical-align: middle;\n",
       "    }\n",
       "\n",
       "    .dataframe tbody tr th {\n",
       "        vertical-align: top;\n",
       "    }\n",
       "\n",
       "    .dataframe thead th {\n",
       "        text-align: right;\n",
       "    }\n",
       "</style>\n",
       "<table border=\"1\" class=\"dataframe\">\n",
       "  <thead>\n",
       "    <tr style=\"text-align: right;\">\n",
       "      <th></th>\n",
       "      <th>medianBaseSalary</th>\n",
       "      <th>rank</th>\n",
       "      <th>studentFacultyRatio</th>\n",
       "      <th>undergradPop</th>\n",
       "      <th>out_of_state_tuition</th>\n",
       "      <th>Selectivity</th>\n",
       "      <th>totalGrantAid</th>\n",
       "    </tr>\n",
       "  </thead>\n",
       "  <tbody>\n",
       "    <tr>\n",
       "      <th>medianBaseSalary</th>\n",
       "      <td>1.000000</td>\n",
       "      <td>-0.645747</td>\n",
       "      <td>-0.442872</td>\n",
       "      <td>-0.158305</td>\n",
       "      <td>0.584428</td>\n",
       "      <td>-0.494202</td>\n",
       "      <td>0.201261</td>\n",
       "    </tr>\n",
       "    <tr>\n",
       "      <th>rank</th>\n",
       "      <td>-0.645747</td>\n",
       "      <td>1.000000</td>\n",
       "      <td>0.102519</td>\n",
       "      <td>-0.289547</td>\n",
       "      <td>-0.391347</td>\n",
       "      <td>0.419108</td>\n",
       "      <td>-0.460018</td>\n",
       "    </tr>\n",
       "    <tr>\n",
       "      <th>studentFacultyRatio</th>\n",
       "      <td>-0.442872</td>\n",
       "      <td>0.102519</td>\n",
       "      <td>1.000000</td>\n",
       "      <td>0.605834</td>\n",
       "      <td>-0.659826</td>\n",
       "      <td>0.310886</td>\n",
       "      <td>0.132181</td>\n",
       "    </tr>\n",
       "    <tr>\n",
       "      <th>undergradPop</th>\n",
       "      <td>-0.158305</td>\n",
       "      <td>-0.289547</td>\n",
       "      <td>0.605834</td>\n",
       "      <td>1.000000</td>\n",
       "      <td>-0.415883</td>\n",
       "      <td>0.109013</td>\n",
       "      <td>0.597566</td>\n",
       "    </tr>\n",
       "    <tr>\n",
       "      <th>out_of_state_tuition</th>\n",
       "      <td>0.584428</td>\n",
       "      <td>-0.391347</td>\n",
       "      <td>-0.659826</td>\n",
       "      <td>-0.415883</td>\n",
       "      <td>1.000000</td>\n",
       "      <td>-0.435413</td>\n",
       "      <td>0.174126</td>\n",
       "    </tr>\n",
       "    <tr>\n",
       "      <th>Selectivity</th>\n",
       "      <td>-0.494202</td>\n",
       "      <td>0.419108</td>\n",
       "      <td>0.310886</td>\n",
       "      <td>0.109013</td>\n",
       "      <td>-0.435413</td>\n",
       "      <td>1.000000</td>\n",
       "      <td>-0.114388</td>\n",
       "    </tr>\n",
       "    <tr>\n",
       "      <th>totalGrantAid</th>\n",
       "      <td>0.201261</td>\n",
       "      <td>-0.460018</td>\n",
       "      <td>0.132181</td>\n",
       "      <td>0.597566</td>\n",
       "      <td>0.174126</td>\n",
       "      <td>-0.114388</td>\n",
       "      <td>1.000000</td>\n",
       "    </tr>\n",
       "  </tbody>\n",
       "</table>\n",
       "</div>"
      ],
      "text/plain": [
       "                      medianBaseSalary      rank  studentFacultyRatio  \\\n",
       "medianBaseSalary              1.000000 -0.645747            -0.442872   \n",
       "rank                         -0.645747  1.000000             0.102519   \n",
       "studentFacultyRatio          -0.442872  0.102519             1.000000   \n",
       "undergradPop                 -0.158305 -0.289547             0.605834   \n",
       "out_of_state_tuition          0.584428 -0.391347            -0.659826   \n",
       "Selectivity                  -0.494202  0.419108             0.310886   \n",
       "totalGrantAid                 0.201261 -0.460018             0.132181   \n",
       "\n",
       "                      undergradPop  out_of_state_tuition  Selectivity  \\\n",
       "medianBaseSalary         -0.158305              0.584428    -0.494202   \n",
       "rank                     -0.289547             -0.391347     0.419108   \n",
       "studentFacultyRatio       0.605834             -0.659826     0.310886   \n",
       "undergradPop              1.000000             -0.415883     0.109013   \n",
       "out_of_state_tuition     -0.415883              1.000000    -0.435413   \n",
       "Selectivity               0.109013             -0.435413     1.000000   \n",
       "totalGrantAid             0.597566              0.174126    -0.114388   \n",
       "\n",
       "                      totalGrantAid  \n",
       "medianBaseSalary           0.201261  \n",
       "rank                      -0.460018  \n",
       "studentFacultyRatio        0.132181  \n",
       "undergradPop               0.597566  \n",
       "out_of_state_tuition       0.174126  \n",
       "Selectivity               -0.114388  \n",
       "totalGrantAid              1.000000  "
      ]
     },
     "execution_count": 6,
     "metadata": {},
     "output_type": "execute_result"
    }
   ],
   "source": [
    "#Association of the response with the predictors\n",
    "\n",
    "data[['medianBaseSalary', 'rank', 'studentFacultyRatio', 'undergradPop', 'out_of_state_tuition', 'Selectivity', 'totalGrantAid']].corr()"
   ]
  },
  {
   "cell_type": "markdown",
   "id": "f01224fb",
   "metadata": {},
   "source": [
    "### Data Preparation\n",
    "*By Kaylee Mo*\n",
    "\n",
    "Lastly, to prep the data for model development, we checked the null values of the variables we were interested in. As you can see below, there were only 7 numbers missing max for a variable, which we found to be a relatively small number compared to the total number of observations. We dropped all null values and then started model development.\n",
    "\n",
    "The code below implements the checking and dropping of null values."
   ]
  },
  {
   "cell_type": "code",
   "execution_count": 7,
   "id": "62d2be62",
   "metadata": {},
   "outputs": [
    {
     "data": {
      "text/plain": [
       "medianBaseSalary        7\n",
       "rank                    0\n",
       "studentFacultyRatio     0\n",
       "undergradPop            0\n",
       "out_of_state_tuition    0\n",
       "Selectivity             0\n",
       "totalGrantAid           3\n",
       "dtype: int64"
      ]
     },
     "execution_count": 7,
     "metadata": {},
     "output_type": "execute_result"
    }
   ],
   "source": [
    "# checking amount of null values\n",
    "data[['medianBaseSalary', 'rank', 'studentFacultyRatio', 'undergradPop', 'out_of_state_tuition', 'Selectivity', 'totalGrantAid']].isnull().sum(axis=0)"
   ]
  },
  {
   "cell_type": "code",
   "execution_count": 8,
   "id": "e32ab6f9",
   "metadata": {},
   "outputs": [],
   "source": [
    "data = data.dropna(axis=0)"
   ]
  },
  {
   "cell_type": "markdown",
   "id": "fbb11c9b",
   "metadata": {},
   "source": [
    "## Exploratory data analysis"
   ]
  },
  {
   "cell_type": "markdown",
   "id": "e4bd74a9",
   "metadata": {},
   "source": [
    "Put code with comments. The comments should explain the code such that it can be easily understood. You may put text *(in a markdown cell)* before a large chunk of code to explain the overall purpose of the code, if it is not intuitive. **Put the name of the person / persons who contributed to each code chunk / set of code chunks.**"
   ]
  },
  {
   "cell_type": "code",
   "execution_count": 10,
   "id": "607bb8f1",
   "metadata": {},
   "outputs": [
    {
     "data": {
      "text/html": [
       "<div>\n",
       "<style scoped>\n",
       "    .dataframe tbody tr th:only-of-type {\n",
       "        vertical-align: middle;\n",
       "    }\n",
       "\n",
       "    .dataframe tbody tr th {\n",
       "        vertical-align: top;\n",
       "    }\n",
       "\n",
       "    .dataframe thead th {\n",
       "        text-align: right;\n",
       "    }\n",
       "</style>\n",
       "<table border=\"1\" class=\"dataframe\">\n",
       "  <thead>\n",
       "    <tr style=\"text-align: right;\">\n",
       "      <th></th>\n",
       "      <th>feature</th>\n",
       "      <th>VIF</th>\n",
       "    </tr>\n",
       "  </thead>\n",
       "  <tbody>\n",
       "    <tr>\n",
       "      <th>0</th>\n",
       "      <td>const</td>\n",
       "      <td>87.007709</td>\n",
       "    </tr>\n",
       "    <tr>\n",
       "      <th>1</th>\n",
       "      <td>Selectivity</td>\n",
       "      <td>1.415238</td>\n",
       "    </tr>\n",
       "    <tr>\n",
       "      <th>2</th>\n",
       "      <td>studentFacultyRatio</td>\n",
       "      <td>2.987181</td>\n",
       "    </tr>\n",
       "    <tr>\n",
       "      <th>3</th>\n",
       "      <td>undergradPop</td>\n",
       "      <td>3.991629</td>\n",
       "    </tr>\n",
       "    <tr>\n",
       "      <th>4</th>\n",
       "      <td>rank</td>\n",
       "      <td>1.899697</td>\n",
       "    </tr>\n",
       "    <tr>\n",
       "      <th>5</th>\n",
       "      <td>out_of_state_tuition</td>\n",
       "      <td>3.074411</td>\n",
       "    </tr>\n",
       "    <tr>\n",
       "      <th>6</th>\n",
       "      <td>totalGrantAid</td>\n",
       "      <td>2.366419</td>\n",
       "    </tr>\n",
       "  </tbody>\n",
       "</table>\n",
       "</div>"
      ],
      "text/plain": [
       "                feature        VIF\n",
       "0                 const  87.007709\n",
       "1           Selectivity   1.415238\n",
       "2   studentFacultyRatio   2.987181\n",
       "3          undergradPop   3.991629\n",
       "4                  rank   1.899697\n",
       "5  out_of_state_tuition   3.074411\n",
       "6         totalGrantAid   2.366419"
      ]
     },
     "execution_count": 10,
     "metadata": {},
     "output_type": "execute_result"
    }
   ],
   "source": [
    "X = data[['Selectivity', 'studentFacultyRatio', 'undergradPop', 'rank', 'out_of_state_tuition', 'totalGrantAid']]\n",
    "X.columns[1:]\n",
    "from statsmodels.stats.outliers_influence import variance_inflation_factor\n",
    "from statsmodels.tools.tools import add_constant\n",
    "X = add_constant(X)\n",
    "vif_data = pd.DataFrame()\n",
    "vif_data[\"feature\"] = X.columns\n",
    "\n",
    "for i in range(len(X.columns)):\n",
    "    vif_data.loc[i,'VIF'] = variance_inflation_factor(X.values, i)\n",
    "\n",
    "vif_data"
   ]
  },
  {
   "cell_type": "markdown",
   "id": "acab331a",
   "metadata": {},
   "source": [
    "## Developing the model"
   ]
  },
  {
   "cell_type": "markdown",
   "id": "ae5ec4c9",
   "metadata": {},
   "source": [
    "Put code with comments. The comments should explain the code such that it can be easily understood. You may put text *(in a markdown cell)* before a large chunk of code to explain the overall purpose of the code, if it is not intuitive. **Put the name of the person / persons who contributed to each code chunk / set of code chunks.**"
   ]
  },
  {
   "cell_type": "markdown",
   "id": "6444e611",
   "metadata": {},
   "source": [
    "### Code fitting the final model"
   ]
  },
  {
   "cell_type": "markdown",
   "id": "f6cae72f",
   "metadata": {},
   "source": [
    "Put the code(s) that fit the final model(s) in separate cell(s), i.e., the code with the `.ols()` or `.logit()` functions."
   ]
  },
  {
   "cell_type": "markdown",
   "id": "62a185cb",
   "metadata": {},
   "source": [
    "## Conclusions and Recommendations to stakeholder(s)\n",
    "\n",
    "You may or may not have code to put in this section. Delete this section if it is irrelevant."
   ]
  }
 ],
 "metadata": {
  "kernelspec": {
   "display_name": "Python 3 (ipykernel)",
   "language": "python",
   "name": "python3"
  },
  "language_info": {
   "codemirror_mode": {
    "name": "ipython",
    "version": 3
   },
   "file_extension": ".py",
   "mimetype": "text/x-python",
   "name": "python",
   "nbconvert_exporter": "python",
   "pygments_lexer": "ipython3",
   "version": "3.9.12"
  }
 },
 "nbformat": 4,
 "nbformat_minor": 5
}
