{
 "cells": [
  {
   "cell_type": "markdown",
   "id": "cc6b9b35",
   "metadata": {},
   "source": [
    "### ---\n",
    "title: \"Project proposal\"\n",
    "format: \n",
    "  html:\n",
    "    toc: true\n",
    "    toc-title: Contents\n",
    "    code-fold: show\n",
    "    self-contained: true\n",
    "jupyter: python3\n",
    "---"
   ]
  },
  {
   "cell_type": "markdown",
   "id": "0116f49b",
   "metadata": {},
   "source": [
    "## Instructions {-}\n",
    "\n",
    "1. Please answer the following questions as part of your project proposal.\n",
    "\n",
    "2. Write your answers in the *Markdown* cells of the Jupyter notebook. You don't need to write any code, but if you want to, you may use the *Code* cells.\n",
    "\n",
    "3. Use [Quarto](https://quarto.org/docs/output-formats/html-basics.html) to print the *.ipynb* file as HTML. You will need to open the command prompt, navigate to the directory containing the file, and use the command: `quarto render filename.ipynb --to html`. Submit the HTML file.\n",
    "\n",
    "4. The project proposal is worth 8 points, and is due on **27th January 2023 at 11:59 pm**. \n",
    "\n",
    "5. You must make one submission as a group, and not individually.\n",
    "\n",
    "6. Each team member must have at least **one commit** on the team's github repository. No points will be awarded to the team member(s) with no commits.\n",
    "\n",
    "7. Share the link of your project's GitHub repository [here](https://docs.google.com/spreadsheets/d/1khao3unpj_vsx4kOSg_Zzo77YK1UWL2w73Oa0aAirOo/edit#gid=0)."
   ]
  },
  {
   "cell_type": "markdown",
   "id": "fe7ea9bb",
   "metadata": {},
   "source": [
    "# 1) Team name\n",
    "Mention your team name.\n",
    "\n",
    "*(0 points)*"
   ]
  },
  {
   "cell_type": "markdown",
   "id": "422b61a7",
   "metadata": {},
   "source": [
    "Ashleys Lost Phone"
   ]
  },
  {
   "cell_type": "markdown",
   "id": "16fccc9b",
   "metadata": {},
   "source": [
    "# 2) Member names\n",
    "Mention the names of your team members.\n",
    "\n",
    "*(0 points)*"
   ]
  },
  {
   "cell_type": "markdown",
   "id": "dc3b9970",
   "metadata": {},
   "source": [
    "1. Nicket Mauskar\n",
    "2. Kaylee Mo \n",
    "3. Luca Moretti\n",
    "4. Ashley Witarsa"
   ]
  },
  {
   "cell_type": "markdown",
   "id": "220a6528",
   "metadata": {},
   "source": [
    "# 3) Link to the GitHub repository\n",
    "Share the link of the team's project repository on GitHub.\n",
    "\n",
    "Also, put the link of your project's GitHub repository [here](https://docs.google.com/spreadsheets/d/1khao3unpj_vsx4kOSg_Zzo77YK1UWL2w73Oa0aAirOo/edit#gid=0).\n",
    "\n",
    "We believe there is no harm in having other teams view your GitHub repository. However, if you don't want anyone to see your team's work, you may make the repository *Private* and add your instructor and graduate TA as *Colloborators* in it.\n",
    "\n",
    "*(0 points)*"
   ]
  },
  {
   "cell_type": "markdown",
   "id": "39d14764",
   "metadata": {},
   "source": [
    "https://github.com/nicketm/AshleysLostPhone"
   ]
  },
  {
   "cell_type": "markdown",
   "id": "16c1a490",
   "metadata": {},
   "source": [
    "# 4) Topic\n",
    "Mention the topic of your course project.\n",
    "\n",
    "*(0.25 points)*"
   ]
  },
  {
   "cell_type": "markdown",
   "id": "8d0246b4",
   "metadata": {},
   "source": [
    "Predicting the mid-career salary of undergraduate students who have graduated with a bachelor's degree from U.S. universities based on Baron’s selectivity scale, student/Faculty ratio, student population, and average tuition costs."
   ]
  },
  {
   "cell_type": "markdown",
   "id": "9403cdfb",
   "metadata": {},
   "source": [
    "# 5) Problem statement\n",
    "Explain the problem statement. The problem statement must include:\n",
    "\n",
    "1. The problem\n",
    "\n",
    "2. Is it a regression or classification problem or a combination of both?\n",
    "\n",
    "3. Is it an inference or prediction problem or a combination of both?\n",
    "\n",
    "4. How will you assess model accuracy?\n",
    "\n",
    "  - If it is a classification problem, then which measure(s) will you optimize for your model – precision, recall, false negative rate (FNR), accuracy, ROC-AUC etc., and why?\n",
    "  - If it is a regression problem, then which measure(s) will you optimize for your model – RMSE (Root mean squared error), MAE (mean absolute error), maximum absolute error etc., and why?\n",
    "\n",
    "5. What techniques do you think you may need to use to improve your model? If you have too many variables, some of which are  correlated or collinear, you may need to do variable selection *(techniques for variable selection that you will learn later in the course - stepwise regression, lasso, ridge regression)*. If the variables do not have a linear relationship with the response, or if some of the modeling assumptions are not satisfied, you may need to transform the predictors and/or the response (variable transformation) to obtain a better fit.\n",
    "\n",
    "*(5 points)*"
   ]
  },
  {
   "cell_type": "markdown",
   "id": "504fc617",
   "metadata": {},
   "source": [
    "As we are nearing graduation as upperclassmen in college, we are now more than ever concerned about the return on academic investment given the current economic climate. We wonder exactly what, and if there are any, characteristics of colleges that lead to higher monetary returns after four-years of university. \n",
    "\n",
    "Our problem is a regression problem because our response variable (Y) is the mid-career salary of graduated undergraduate students, which is a continuous variable. We are interested in using inference because we are identifying the relationship between multiple university predictors –  Baron’s selectivity scale, student/faculty ratio, student population, and average tuition costs – and the resulting return on education (measured here by mid-career salary). For instance, we are going to try to identify if a university’s average tuition costs impact the students’ mid-career salary. \n",
    "\n",
    "Because our proposal is a regression problem, we will be assessing model accuracy with the root mean squared error (RMSE). We will optimize RMSE because we want to penalize larger outliers more. For example, certain schools that are not as selective may have an exceptionally high mid-year salary in the dataset because of certain outlier high-performing individuals that skew the average – we want our model to be more sensitive to these outliers. \n",
    "\n",
    "We may need to do variable selection to improve our model. From the initial outlook, the variables have a linear relationship with the response variable, so variable transformation will not seem to be needed; however, our variables may be correlated or collinear with each other. For instance, we predict tuition costs to be correlated with student/faculty ratio, student population, and selectivity. If we do variable selection, we should be able to improve our model and obtain a better fit. \n"
   ]
  },
  {
   "cell_type": "markdown",
   "id": "3eb2d4f2",
   "metadata": {},
   "source": [
    "# 6) Data sources\n",
    "\n",
    "What data sources will you use, and how will the data help answer the questions? Explain.\n",
    "\n",
    "If the data is open source, share the link of the data.\n",
    "\n",
    "*(1 point)*"
   ]
  },
  {
   "cell_type": "markdown",
   "id": "8131fb34",
   "metadata": {},
   "source": [
    "1. https://www.kaggle.com/datasets/kabhishm/top-american-colleges-2022 \n",
    "This dataset contains information about US colleges, including their student/faculty ratio, average tuition costs, undergraduate population, and mid-career salary. This dataset will help us understand how different variables affect average mid-career salary expectations. \n",
    "\n",
    "2. https://www.jkcf.org/wp-content/uploads/2018/06/The_Transfer_Process-2015_list_of_selective_colleges.pdf \n",
    "This dataset information on the selectivity of US colleges. It uses Barron’s Profile of American Colleges to put schools into four categories: “competitive”, “less competitive”, “non-competitive”, and “special”. This dataset will help us understand how selectivity affects average mid-career salary expectations. \n"
   ]
  },
  {
   "cell_type": "markdown",
   "id": "cb8a845f",
   "metadata": {},
   "source": [
    "# 7) Stakeholders"
   ]
  },
  {
   "cell_type": "markdown",
   "id": "d39c782c",
   "metadata": {},
   "source": [
    "Who are the stakeholders, and how will your project benefit them? Explain.\n",
    "\n",
    "*(1 point)*"
   ]
  },
  {
   "cell_type": "markdown",
   "id": "d63f84d2",
   "metadata": {},
   "source": [
    "**Parents with children graduating from high school** want to ensure their kids are receiving an education that is worth the investment: their hope is that the higher education, the higher the lifetime earnings their children will gross.  Using the information from this project will help parents make informed decisions.\n",
    "\n",
    "**University administration and board members** – especially those working at the most selective schools – are interested in having a high mid-career salary association with higher tuition costs and selectivity, and lower student/faculty ratio and student population to generate revenue.  \n",
    "\n",
    "Similar to administration and board members, **investors** are similarly interested in these statistics to determine whether or not their investment will have a higher return.\n",
    "\n",
    "**The federal and state governments** want to see this kind of information to inform their annual budgets and how much money to allocate to U.S. universities.\n",
    "\n",
    "**Students** themselves also can benefit from this project by using the information to determine which universities they want to apply to and/or what universities are worth attending. \n"
   ]
  },
  {
   "cell_type": "markdown",
   "id": "57e41b2a",
   "metadata": {},
   "source": [
    "# 8) Results\n",
    "What kind of results do you expect? \n",
    "\n",
    "How much accuracy is required / desired in your model (based on the metric(s) chosen in question 5), such that it is useful to the stakeholders and why?\n",
    "\n",
    "**Hint:** If it is a classification model, then your model must be at least better than random classification. If it is a regression model, then your model must be at least better than trivial models, such as the one with only the intercept term.\n",
    "\n",
    "*(0.5 point)*"
   ]
  },
  {
   "cell_type": "markdown",
   "id": "22ad9076",
   "metadata": {},
   "source": [
    "We expect that there would be a negative coefficient on selectivity, student/faculty ratio, and undergraduate population. We expect that there would be a positive coefficient on tuition. We desire our multiple regression model to be more accurate than the single regression models of each predictor. This will be useful to the stakeholders because it will allow them to understand how the different predictors work together to affect mid-year salary. "
   ]
  },
  {
   "cell_type": "markdown",
   "id": "0c874b4f",
   "metadata": {},
   "source": [
    "# 9) Work-split\n",
    "How do you plan to split the project work amongst individual team members?\n",
    "\n",
    "*(0.25 point)*"
   ]
  },
  {
   "cell_type": "markdown",
   "id": "0d18b120",
   "metadata": {},
   "source": [
    "There are 5 separate portions of the project that we have to tackle, in order: \n",
    "\n",
    "1.) Data cleaning/preparation: this will be done by 2 members (Nicket & Ashley) \n",
    "\n",
    "2.) SLR on different predictors: each member in the group will be responsible for performing an SLR on a different predictor\n",
    "\n",
    "3.) MLR on all predictors: this will be done as a group \n",
    "\n",
    "4.) Data Visualization: this will be done by the other 2 members in the group (Luca & Kaylee)\n",
    "\n",
    "5.) Prepare report/presentation: this will be done as a group"
   ]
  }
 ],
 "metadata": {
  "kernelspec": {
   "display_name": "Python 3 (ipykernel)",
   "language": "python",
   "name": "python3"
  },
  "language_info": {
   "codemirror_mode": {
    "name": "ipython",
    "version": 3
   },
   "file_extension": ".py",
   "mimetype": "text/x-python",
   "name": "python",
   "nbconvert_exporter": "python",
   "pygments_lexer": "ipython3",
   "version": "3.9.12"
  }
 },
 "nbformat": 4,
 "nbformat_minor": 5
}
