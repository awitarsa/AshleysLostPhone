{
 "cells": [
  {
   "cell_type": "code",
   "execution_count": 1,
   "id": "fc92a518",
   "metadata": {},
   "outputs": [],
   "source": [
    "import pandas as pd\n",
    "import seaborn as sns\n",
    "import matplotlib.pyplot as plt\n",
    "import statsmodels.formula.api as smf\n",
    "import numpy.ma as ma\n",
    "import numpy as np\n",
    "import fuzzymatcher\n",
    "import statsmodels.formula.api as sm\n",
    "\n",
    "sns.set_style('whitegrid')\n",
    "plt.style.use(\"fivethirtyeight\")"
   ]
  },
  {
   "cell_type": "markdown",
   "id": "954a1db4",
   "metadata": {},
   "source": [
    "## Cleaning Data"
   ]
  },
  {
   "cell_type": "code",
   "execution_count": 2,
   "id": "e6a3b4fc",
   "metadata": {},
   "outputs": [],
   "source": [
    "top_colleges_list = pd.read_csv('top_colleges_2022.csv')\n",
    "barrons = pd.read_csv('Barrons College List.csv')\n",
    "tuition = pd.read_csv('tuition_cost.csv')"
   ]
  },
  {
   "cell_type": "code",
   "execution_count": 3,
   "id": "d082e863",
   "metadata": {},
   "outputs": [
    {
     "data": {
      "text/html": [
       "<div>\n",
       "<style scoped>\n",
       "    .dataframe tbody tr th:only-of-type {\n",
       "        vertical-align: middle;\n",
       "    }\n",
       "\n",
       "    .dataframe tbody tr th {\n",
       "        vertical-align: top;\n",
       "    }\n",
       "\n",
       "    .dataframe thead th {\n",
       "        text-align: right;\n",
       "    }\n",
       "</style>\n",
       "<table border=\"1\" class=\"dataframe\">\n",
       "  <thead>\n",
       "    <tr style=\"text-align: right;\">\n",
       "      <th></th>\n",
       "      <th>name</th>\n",
       "      <th>out_of_state_total</th>\n",
       "    </tr>\n",
       "  </thead>\n",
       "  <tbody>\n",
       "    <tr>\n",
       "      <th>0</th>\n",
       "      <td>Aaniiih Nakoda College</td>\n",
       "      <td>2380</td>\n",
       "    </tr>\n",
       "    <tr>\n",
       "      <th>1</th>\n",
       "      <td>Abilene Christian University</td>\n",
       "      <td>45200</td>\n",
       "    </tr>\n",
       "    <tr>\n",
       "      <th>2</th>\n",
       "      <td>Abraham Baldwin Agricultural College</td>\n",
       "      <td>21024</td>\n",
       "    </tr>\n",
       "    <tr>\n",
       "      <th>3</th>\n",
       "      <td>Academy College</td>\n",
       "      <td>17661</td>\n",
       "    </tr>\n",
       "    <tr>\n",
       "      <th>4</th>\n",
       "      <td>Academy of Art University</td>\n",
       "      <td>44458</td>\n",
       "    </tr>\n",
       "  </tbody>\n",
       "</table>\n",
       "</div>"
      ],
      "text/plain": [
       "                                   name  out_of_state_total\n",
       "0                Aaniiih Nakoda College                2380\n",
       "1          Abilene Christian University               45200\n",
       "2  Abraham Baldwin Agricultural College               21024\n",
       "3                       Academy College               17661\n",
       "4             Academy of Art University               44458"
      ]
     },
     "execution_count": 3,
     "metadata": {},
     "output_type": "execute_result"
    }
   ],
   "source": [
    "#tuition.columns\n",
    "tuition = tuition.drop(['state', 'state_code', 'type', 'degree_length',\n",
    "       'room_and_board', 'in_state_tuition', 'in_state_total',\n",
    "       'out_of_state_tuition',], axis = 1)\n",
    "tuition.head()"
   ]
  },
  {
   "cell_type": "code",
   "execution_count": 4,
   "id": "532c8e99",
   "metadata": {},
   "outputs": [],
   "source": [
    "barrons.columns = barrons.columns.str.rstrip()\n",
    "barrons['College Name'] = barrons['College Name'].astype(str)\n",
    "barrons['College Name'] = barrons['College Name'].apply(lambda x: x.strip())\n",
    "#barrons.head()"
   ]
  },
  {
   "cell_type": "code",
   "execution_count": 5,
   "id": "02493a15",
   "metadata": {},
   "outputs": [],
   "source": [
    "data = fuzzymatcher.fuzzy_left_join(top_colleges_list, barrons, ['organizationName'], ['College Name'])"
   ]
  },
  {
   "cell_type": "code",
   "execution_count": 6,
   "id": "336e44cb",
   "metadata": {},
   "outputs": [],
   "source": [
    "data = data.drop(['best_match_score', '__id_left', '__id_right','description', 'longitude', 'latitude', 'website', 'phoneNumber', 'carnegieClassification', 'studentPopulation', 'College Name', 'City and State'], axis = 1)"
   ]
  },
  {
   "cell_type": "code",
   "execution_count": 7,
   "id": "8b0f0990",
   "metadata": {},
   "outputs": [],
   "source": [
    "data2 = fuzzymatcher.fuzzy_left_join(data, tuition, ['organizationName'], ['name'])"
   ]
  },
  {
   "cell_type": "code",
   "execution_count": 8,
   "id": "bc46f00c",
   "metadata": {},
   "outputs": [],
   "source": [
    "data = data2.drop(['best_match_score', '__id_left', '__id_right','yearFounded', 'stateCode', 'name'], axis = 1)"
   ]
  },
  {
   "cell_type": "code",
   "execution_count": 9,
   "id": "e9b7ec86",
   "metadata": {},
   "outputs": [
    {
     "data": {
      "text/html": [
       "<div>\n",
       "<style scoped>\n",
       "    .dataframe tbody tr th:only-of-type {\n",
       "        vertical-align: middle;\n",
       "    }\n",
       "\n",
       "    .dataframe tbody tr th {\n",
       "        vertical-align: top;\n",
       "    }\n",
       "\n",
       "    .dataframe thead th {\n",
       "        text-align: right;\n",
       "    }\n",
       "</style>\n",
       "<table border=\"1\" class=\"dataframe\">\n",
       "  <thead>\n",
       "    <tr style=\"text-align: right;\">\n",
       "      <th></th>\n",
       "      <th>rank</th>\n",
       "      <th>organizationName</th>\n",
       "      <th>state</th>\n",
       "      <th>campusSetting</th>\n",
       "      <th>medianBaseSalary</th>\n",
       "      <th>city</th>\n",
       "      <th>country</th>\n",
       "      <th>state.1</th>\n",
       "      <th>region</th>\n",
       "      <th>collegeType</th>\n",
       "      <th>studentFacultyRatio</th>\n",
       "      <th>totalStudentPop</th>\n",
       "      <th>undergradPop</th>\n",
       "      <th>totalGrantAid</th>\n",
       "      <th>percentOfStudentsFinAid</th>\n",
       "      <th>percentOfStudentsGrant</th>\n",
       "      <th>Selectivity</th>\n",
       "      <th>out_of_state_total</th>\n",
       "    </tr>\n",
       "  </thead>\n",
       "  <tbody>\n",
       "    <tr>\n",
       "      <th>0</th>\n",
       "      <td>1</td>\n",
       "      <td>Massachusetts Institute of Technology</td>\n",
       "      <td>MA</td>\n",
       "      <td>Urban</td>\n",
       "      <td>173700.0</td>\n",
       "      <td>Cambridge</td>\n",
       "      <td>United States</td>\n",
       "      <td>Massachusetts</td>\n",
       "      <td>Northeast</td>\n",
       "      <td>Private not-for-profit</td>\n",
       "      <td>3</td>\n",
       "      <td>12195</td>\n",
       "      <td>4582</td>\n",
       "      <td>35299332.0</td>\n",
       "      <td>75.0</td>\n",
       "      <td>60.0</td>\n",
       "      <td>1.0</td>\n",
       "      <td>67342</td>\n",
       "    </tr>\n",
       "    <tr>\n",
       "      <th>1</th>\n",
       "      <td>2</td>\n",
       "      <td>Stanford University</td>\n",
       "      <td>CA</td>\n",
       "      <td>Suburban</td>\n",
       "      <td>173500.0</td>\n",
       "      <td>Stanford</td>\n",
       "      <td>United States</td>\n",
       "      <td>California</td>\n",
       "      <td>West</td>\n",
       "      <td>Private not-for-profit</td>\n",
       "      <td>4</td>\n",
       "      <td>20961</td>\n",
       "      <td>8464</td>\n",
       "      <td>51328461.0</td>\n",
       "      <td>70.0</td>\n",
       "      <td>55.0</td>\n",
       "      <td>1.0</td>\n",
       "      <td>67117</td>\n",
       "    </tr>\n",
       "    <tr>\n",
       "      <th>2</th>\n",
       "      <td>2</td>\n",
       "      <td>University of California, Berkeley</td>\n",
       "      <td>CA</td>\n",
       "      <td>Urban</td>\n",
       "      <td>154500.0</td>\n",
       "      <td>Berkeley</td>\n",
       "      <td>United States</td>\n",
       "      <td>California</td>\n",
       "      <td>West</td>\n",
       "      <td>Public</td>\n",
       "      <td>19</td>\n",
       "      <td>45878</td>\n",
       "      <td>33208</td>\n",
       "      <td>64495611.0</td>\n",
       "      <td>63.0</td>\n",
       "      <td>53.0</td>\n",
       "      <td>1.0</td>\n",
       "      <td>59336</td>\n",
       "    </tr>\n",
       "    <tr>\n",
       "      <th>3</th>\n",
       "      <td>4</td>\n",
       "      <td>Princeton University</td>\n",
       "      <td>NJ</td>\n",
       "      <td>Urban</td>\n",
       "      <td>167600.0</td>\n",
       "      <td>Princeton</td>\n",
       "      <td>United States</td>\n",
       "      <td>New Jersey</td>\n",
       "      <td>Northeast</td>\n",
       "      <td>Private not-for-profit</td>\n",
       "      <td>4</td>\n",
       "      <td>8532</td>\n",
       "      <td>5516</td>\n",
       "      <td>44871096.0</td>\n",
       "      <td>62.0</td>\n",
       "      <td>61.0</td>\n",
       "      <td>1.0</td>\n",
       "      <td>65620</td>\n",
       "    </tr>\n",
       "    <tr>\n",
       "      <th>4</th>\n",
       "      <td>5</td>\n",
       "      <td>Columbia University</td>\n",
       "      <td>NY</td>\n",
       "      <td>Urban</td>\n",
       "      <td>148800.0</td>\n",
       "      <td>New York</td>\n",
       "      <td>United States</td>\n",
       "      <td>New York</td>\n",
       "      <td>Northeast</td>\n",
       "      <td>Private not-for-profit</td>\n",
       "      <td>6</td>\n",
       "      <td>33882</td>\n",
       "      <td>8689</td>\n",
       "      <td>44615007.0</td>\n",
       "      <td>58.0</td>\n",
       "      <td>54.0</td>\n",
       "      <td>1.0</td>\n",
       "      <td>74001</td>\n",
       "    </tr>\n",
       "  </tbody>\n",
       "</table>\n",
       "</div>"
      ],
      "text/plain": [
       "   rank                       organizationName state campusSetting  \\\n",
       "0     1  Massachusetts Institute of Technology    MA         Urban   \n",
       "1     2                    Stanford University    CA      Suburban   \n",
       "2     2     University of California, Berkeley    CA         Urban   \n",
       "3     4                   Princeton University    NJ         Urban   \n",
       "4     5                    Columbia University    NY         Urban   \n",
       "\n",
       "   medianBaseSalary       city        country        state.1     region  \\\n",
       "0          173700.0  Cambridge  United States  Massachusetts  Northeast   \n",
       "1          173500.0   Stanford  United States     California       West   \n",
       "2          154500.0   Berkeley  United States     California       West   \n",
       "3          167600.0  Princeton  United States     New Jersey  Northeast   \n",
       "4          148800.0   New York  United States       New York  Northeast   \n",
       "\n",
       "              collegeType  studentFacultyRatio  totalStudentPop  undergradPop  \\\n",
       "0  Private not-for-profit                    3            12195          4582   \n",
       "1  Private not-for-profit                    4            20961          8464   \n",
       "2                  Public                   19            45878         33208   \n",
       "3  Private not-for-profit                    4             8532          5516   \n",
       "4  Private not-for-profit                    6            33882          8689   \n",
       "\n",
       "   totalGrantAid  percentOfStudentsFinAid  percentOfStudentsGrant  \\\n",
       "0     35299332.0                     75.0                    60.0   \n",
       "1     51328461.0                     70.0                    55.0   \n",
       "2     64495611.0                     63.0                    53.0   \n",
       "3     44871096.0                     62.0                    61.0   \n",
       "4     44615007.0                     58.0                    54.0   \n",
       "\n",
       "   Selectivity  out_of_state_total  \n",
       "0          1.0               67342  \n",
       "1          1.0               67117  \n",
       "2          1.0               59336  \n",
       "3          1.0               65620  \n",
       "4          1.0               74001  "
      ]
     },
     "execution_count": 9,
     "metadata": {},
     "output_type": "execute_result"
    }
   ],
   "source": [
    "data.head()"
   ]
  },
  {
   "cell_type": "code",
   "execution_count": 10,
   "id": "7902f95c",
   "metadata": {},
   "outputs": [],
   "source": [
    "#data.isnull().sum(axis=0)"
   ]
  },
  {
   "cell_type": "code",
   "execution_count": 11,
   "id": "2950c849",
   "metadata": {},
   "outputs": [],
   "source": [
    "data = data.dropna(axis=0)"
   ]
  },
  {
   "cell_type": "markdown",
   "id": "9b17f548",
   "metadata": {},
   "source": [
    "# Preparing the Model"
   ]
  },
  {
   "cell_type": "markdown",
   "id": "910bdb56",
   "metadata": {},
   "source": [
    "# Collinearity & VIF"
   ]
  },
  {
   "cell_type": "code",
   "execution_count": 12,
   "id": "a2ff3e0e",
   "metadata": {},
   "outputs": [],
   "source": [
    "# our Y variable is medianBaseSalary"
   ]
  },
  {
   "cell_type": "code",
   "execution_count": 13,
   "id": "223d62d7",
   "metadata": {},
   "outputs": [
    {
     "data": {
      "text/html": [
       "<div>\n",
       "<style scoped>\n",
       "    .dataframe tbody tr th:only-of-type {\n",
       "        vertical-align: middle;\n",
       "    }\n",
       "\n",
       "    .dataframe tbody tr th {\n",
       "        vertical-align: top;\n",
       "    }\n",
       "\n",
       "    .dataframe thead th {\n",
       "        text-align: right;\n",
       "    }\n",
       "</style>\n",
       "<table border=\"1\" class=\"dataframe\">\n",
       "  <thead>\n",
       "    <tr style=\"text-align: right;\">\n",
       "      <th></th>\n",
       "      <th>rank</th>\n",
       "      <th>medianBaseSalary</th>\n",
       "      <th>studentFacultyRatio</th>\n",
       "      <th>totalStudentPop</th>\n",
       "      <th>undergradPop</th>\n",
       "      <th>totalGrantAid</th>\n",
       "      <th>percentOfStudentsFinAid</th>\n",
       "      <th>percentOfStudentsGrant</th>\n",
       "      <th>Selectivity</th>\n",
       "      <th>out_of_state_total</th>\n",
       "    </tr>\n",
       "  </thead>\n",
       "  <tbody>\n",
       "    <tr>\n",
       "      <th>rank</th>\n",
       "      <td>1.000000</td>\n",
       "      <td>-0.645332</td>\n",
       "      <td>0.104158</td>\n",
       "      <td>-0.368774</td>\n",
       "      <td>-0.301877</td>\n",
       "      <td>-0.467038</td>\n",
       "      <td>0.651516</td>\n",
       "      <td>0.605133</td>\n",
       "      <td>0.427657</td>\n",
       "      <td>-0.417975</td>\n",
       "    </tr>\n",
       "    <tr>\n",
       "      <th>medianBaseSalary</th>\n",
       "      <td>-0.645332</td>\n",
       "      <td>1.000000</td>\n",
       "      <td>-0.443229</td>\n",
       "      <td>-0.074030</td>\n",
       "      <td>-0.156016</td>\n",
       "      <td>0.202065</td>\n",
       "      <td>-0.492029</td>\n",
       "      <td>-0.428602</td>\n",
       "      <td>-0.486363</td>\n",
       "      <td>0.594859</td>\n",
       "    </tr>\n",
       "    <tr>\n",
       "      <th>studentFacultyRatio</th>\n",
       "      <td>0.104158</td>\n",
       "      <td>-0.443229</td>\n",
       "      <td>1.000000</td>\n",
       "      <td>0.577120</td>\n",
       "      <td>0.664584</td>\n",
       "      <td>0.147832</td>\n",
       "      <td>0.124652</td>\n",
       "      <td>0.042722</td>\n",
       "      <td>0.339866</td>\n",
       "      <td>-0.660050</td>\n",
       "    </tr>\n",
       "    <tr>\n",
       "      <th>totalStudentPop</th>\n",
       "      <td>-0.368774</td>\n",
       "      <td>-0.074030</td>\n",
       "      <td>0.577120</td>\n",
       "      <td>1.000000</td>\n",
       "      <td>0.973690</td>\n",
       "      <td>0.659760</td>\n",
       "      <td>-0.204889</td>\n",
       "      <td>-0.261773</td>\n",
       "      <td>0.078069</td>\n",
       "      <td>-0.297881</td>\n",
       "    </tr>\n",
       "    <tr>\n",
       "      <th>undergradPop</th>\n",
       "      <td>-0.301877</td>\n",
       "      <td>-0.156016</td>\n",
       "      <td>0.664584</td>\n",
       "      <td>0.973690</td>\n",
       "      <td>1.000000</td>\n",
       "      <td>0.588302</td>\n",
       "      <td>-0.161342</td>\n",
       "      <td>-0.227700</td>\n",
       "      <td>0.130711</td>\n",
       "      <td>-0.383983</td>\n",
       "    </tr>\n",
       "    <tr>\n",
       "      <th>totalGrantAid</th>\n",
       "      <td>-0.467038</td>\n",
       "      <td>0.202065</td>\n",
       "      <td>0.147832</td>\n",
       "      <td>0.659760</td>\n",
       "      <td>0.588302</td>\n",
       "      <td>1.000000</td>\n",
       "      <td>-0.109698</td>\n",
       "      <td>-0.081362</td>\n",
       "      <td>-0.103527</td>\n",
       "      <td>0.216385</td>\n",
       "    </tr>\n",
       "    <tr>\n",
       "      <th>percentOfStudentsFinAid</th>\n",
       "      <td>0.651516</td>\n",
       "      <td>-0.492029</td>\n",
       "      <td>0.124652</td>\n",
       "      <td>-0.204889</td>\n",
       "      <td>-0.161342</td>\n",
       "      <td>-0.109698</td>\n",
       "      <td>1.000000</td>\n",
       "      <td>0.958937</td>\n",
       "      <td>0.512090</td>\n",
       "      <td>-0.307817</td>\n",
       "    </tr>\n",
       "    <tr>\n",
       "      <th>percentOfStudentsGrant</th>\n",
       "      <td>0.605133</td>\n",
       "      <td>-0.428602</td>\n",
       "      <td>0.042722</td>\n",
       "      <td>-0.261773</td>\n",
       "      <td>-0.227700</td>\n",
       "      <td>-0.081362</td>\n",
       "      <td>0.958937</td>\n",
       "      <td>1.000000</td>\n",
       "      <td>0.444521</td>\n",
       "      <td>-0.178700</td>\n",
       "    </tr>\n",
       "    <tr>\n",
       "      <th>Selectivity</th>\n",
       "      <td>0.427657</td>\n",
       "      <td>-0.486363</td>\n",
       "      <td>0.339866</td>\n",
       "      <td>0.078069</td>\n",
       "      <td>0.130711</td>\n",
       "      <td>-0.103527</td>\n",
       "      <td>0.512090</td>\n",
       "      <td>0.444521</td>\n",
       "      <td>1.000000</td>\n",
       "      <td>-0.465824</td>\n",
       "    </tr>\n",
       "    <tr>\n",
       "      <th>out_of_state_total</th>\n",
       "      <td>-0.417975</td>\n",
       "      <td>0.594859</td>\n",
       "      <td>-0.660050</td>\n",
       "      <td>-0.297881</td>\n",
       "      <td>-0.383983</td>\n",
       "      <td>0.216385</td>\n",
       "      <td>-0.307817</td>\n",
       "      <td>-0.178700</td>\n",
       "      <td>-0.465824</td>\n",
       "      <td>1.000000</td>\n",
       "    </tr>\n",
       "  </tbody>\n",
       "</table>\n",
       "</div>"
      ],
      "text/plain": [
       "                             rank  medianBaseSalary  studentFacultyRatio  \\\n",
       "rank                     1.000000         -0.645332             0.104158   \n",
       "medianBaseSalary        -0.645332          1.000000            -0.443229   \n",
       "studentFacultyRatio      0.104158         -0.443229             1.000000   \n",
       "totalStudentPop         -0.368774         -0.074030             0.577120   \n",
       "undergradPop            -0.301877         -0.156016             0.664584   \n",
       "totalGrantAid           -0.467038          0.202065             0.147832   \n",
       "percentOfStudentsFinAid  0.651516         -0.492029             0.124652   \n",
       "percentOfStudentsGrant   0.605133         -0.428602             0.042722   \n",
       "Selectivity              0.427657         -0.486363             0.339866   \n",
       "out_of_state_total      -0.417975          0.594859            -0.660050   \n",
       "\n",
       "                         totalStudentPop  undergradPop  totalGrantAid  \\\n",
       "rank                           -0.368774     -0.301877      -0.467038   \n",
       "medianBaseSalary               -0.074030     -0.156016       0.202065   \n",
       "studentFacultyRatio             0.577120      0.664584       0.147832   \n",
       "totalStudentPop                 1.000000      0.973690       0.659760   \n",
       "undergradPop                    0.973690      1.000000       0.588302   \n",
       "totalGrantAid                   0.659760      0.588302       1.000000   \n",
       "percentOfStudentsFinAid        -0.204889     -0.161342      -0.109698   \n",
       "percentOfStudentsGrant         -0.261773     -0.227700      -0.081362   \n",
       "Selectivity                     0.078069      0.130711      -0.103527   \n",
       "out_of_state_total             -0.297881     -0.383983       0.216385   \n",
       "\n",
       "                         percentOfStudentsFinAid  percentOfStudentsGrant  \\\n",
       "rank                                    0.651516                0.605133   \n",
       "medianBaseSalary                       -0.492029               -0.428602   \n",
       "studentFacultyRatio                     0.124652                0.042722   \n",
       "totalStudentPop                        -0.204889               -0.261773   \n",
       "undergradPop                           -0.161342               -0.227700   \n",
       "totalGrantAid                          -0.109698               -0.081362   \n",
       "percentOfStudentsFinAid                 1.000000                0.958937   \n",
       "percentOfStudentsGrant                  0.958937                1.000000   \n",
       "Selectivity                             0.512090                0.444521   \n",
       "out_of_state_total                     -0.307817               -0.178700   \n",
       "\n",
       "                         Selectivity  out_of_state_total  \n",
       "rank                        0.427657           -0.417975  \n",
       "medianBaseSalary           -0.486363            0.594859  \n",
       "studentFacultyRatio         0.339866           -0.660050  \n",
       "totalStudentPop             0.078069           -0.297881  \n",
       "undergradPop                0.130711           -0.383983  \n",
       "totalGrantAid              -0.103527            0.216385  \n",
       "percentOfStudentsFinAid     0.512090           -0.307817  \n",
       "percentOfStudentsGrant      0.444521           -0.178700  \n",
       "Selectivity                 1.000000           -0.465824  \n",
       "out_of_state_total         -0.465824            1.000000  "
      ]
     },
     "execution_count": 13,
     "metadata": {},
     "output_type": "execute_result"
    }
   ],
   "source": [
    "data.corr()"
   ]
  },
  {
   "cell_type": "code",
   "execution_count": 14,
   "id": "c7448642",
   "metadata": {},
   "outputs": [],
   "source": [
    "X = data[['Selectivity', 'studentFacultyRatio', 'undergradPop', 'rank', 'out_of_state_total', 'totalGrantAid']]"
   ]
  },
  {
   "cell_type": "code",
   "execution_count": 15,
   "id": "7c094e00",
   "metadata": {},
   "outputs": [
    {
     "data": {
      "text/plain": [
       "Index(['studentFacultyRatio', 'undergradPop', 'rank', 'out_of_state_total',\n",
       "       'totalGrantAid'],\n",
       "      dtype='object')"
      ]
     },
     "execution_count": 15,
     "metadata": {},
     "output_type": "execute_result"
    }
   ],
   "source": [
    "X.columns[1:]"
   ]
  },
  {
   "cell_type": "code",
   "execution_count": 16,
   "id": "0d89b847",
   "metadata": {},
   "outputs": [
    {
     "name": "stdout",
     "output_type": "stream",
     "text": [
      "               feature        VIF\n",
      "0                const  95.644893\n",
      "1          Selectivity   1.433446\n",
      "2  studentFacultyRatio   2.802808\n",
      "3         undergradPop   4.070057\n",
      "4                 rank   1.940852\n",
      "5   out_of_state_total   2.963175\n",
      "6        totalGrantAid   2.388220\n"
     ]
    }
   ],
   "source": [
    "from statsmodels.stats.outliers_influence import variance_inflation_factor\n",
    "from statsmodels.tools.tools import add_constant\n",
    "X = add_constant(X)\n",
    "vif_data = pd.DataFrame()\n",
    "vif_data[\"feature\"] = X.columns\n",
    "\n",
    "for i in range(len(X.columns)):\n",
    "    vif_data.loc[i,'VIF'] = variance_inflation_factor(X.values, i)\n",
    "\n",
    "print(vif_data)"
   ]
  },
  {
   "cell_type": "markdown",
   "id": "400d7e43",
   "metadata": {},
   "source": [
    "As a rule of thumb, a VIF value that exceeds 5 or 10 indicates a problematic amount of collinearity.\n",
    "\n",
    "None of our variables have a VIF value above 5 - no indication of collinearity, as of now, keep all predictors."
   ]
  },
  {
   "cell_type": "markdown",
   "id": "d1489064",
   "metadata": {},
   "source": [
    "# Variable Selection"
   ]
  },
  {
   "cell_type": "code",
   "execution_count": null,
   "id": "cfb2de08",
   "metadata": {},
   "outputs": [],
   "source": [
    "model = sm.ols('medianBaseSalary~Selectivity+studentFacultyRatio+undergradPop+rank+out_of_state_total+totalGrantAid', data = data).fit()\n",
    "model.summary()"
   ]
  },
  {
   "cell_type": "markdown",
   "id": "1b556603",
   "metadata": {},
   "source": [
    "# without interaction"
   ]
  },
  {
   "cell_type": "code",
   "execution_count": 22,
   "id": "d955607d",
   "metadata": {},
   "outputs": [],
   "source": [
    "# Best subset selection\n",
    "\n",
    "X = data[['Selectivity', 'studentFacultyRatio', 'undergradPop', 'rank', 'out_of_state_total', 'totalGrantAid']]\n",
    "\n",
    "def processSubset(predictor_subset):\n",
    "    model = sm.ols('medianBaseSalary~' + '+'.join(predictor_subset),data = data).fit()\n",
    "    Rsquared = model.rsquared\n",
    "    return {\"model\":model, \"Rsquared\":Rsquared}"
   ]
  },
  {
   "cell_type": "code",
   "execution_count": 23,
   "id": "db350339",
   "metadata": {},
   "outputs": [],
   "source": [
    "def getBest_model(k):\n",
    "    tic = time.time()\n",
    "    results = []\n",
    "    for combo in itertools.combinations(X.columns, k):\n",
    "        results.append(processSubset((list(combo))))\n",
    "\n",
    "    models = pd.DataFrame(results)\n",
    "\n",
    "    best_model = models.loc[models['Rsquared'].argmax()]\n",
    "    \n",
    "    toc = time.time()\n",
    "    print(\"Processed\", models.shape[0], \"models on\", k, \"predictors in\", (toc-tic), \"seconds.\")\n",
    "    return best_model"
   ]
  },
  {
   "cell_type": "code",
   "execution_count": 24,
   "id": "3264fcb0",
   "metadata": {},
   "outputs": [
    {
     "name": "stdout",
     "output_type": "stream",
     "text": [
      "Processed 6 models on 1 predictors in 0.025856971740722656 seconds.\n",
      "Processed 15 models on 2 predictors in 0.05107474327087402 seconds.\n",
      "Processed 20 models on 3 predictors in 0.07713794708251953 seconds.\n",
      "Processed 15 models on 4 predictors in 0.0728919506072998 seconds.\n",
      "Processed 6 models on 5 predictors in 0.03397989273071289 seconds.\n",
      "Processed 1 models on 6 predictors in 0.0077419281005859375 seconds.\n",
      "Total elapsed time: 0.27568578720092773 seconds.\n"
     ]
    }
   ],
   "source": [
    "import itertools\n",
    "import time\n",
    "\n",
    "models_best = pd.DataFrame(columns=[\"Rsquared\", \"model\"])\n",
    "\n",
    "tic = time.time()\n",
    "for i in range(1,1+X.shape[1]):\n",
    "    models_best.loc[i] = getBest_model(i)\n",
    "\n",
    "toc = time.time()\n",
    "print(\"Total elapsed time:\", (toc-tic), \"seconds.\")"
   ]
  },
  {
   "cell_type": "code",
   "execution_count": 25,
   "id": "a8150bd8",
   "metadata": {},
   "outputs": [
    {
     "data": {
      "image/png": "[encoded data removed]",
      "text/plain": [
       "<Figure size 1440x720 with 4 Axes>"
      ]
     },
     "metadata": {},
     "output_type": "display_data"
    }
   ],
   "source": [
    "def best_sub_plots():\n",
    "    plt.figure(figsize=(20,10))\n",
    "    plt.rcParams.update({'font.size': 18, 'lines.markersize': 10})\n",
    "\n",
    "    # Set up a 2x2 grid so we can look at 4 plots at once\n",
    "    plt.subplot(2, 2, 1)\n",
    "\n",
    "    # We will now plot a red dot to indicate the model with the largest adjusted R^2 statistic.\n",
    "    # The argmax() function can be used to identify the location of the maximum point of a vector\n",
    "    plt.plot(models_best[\"Rsquared\"])\n",
    "    plt.xlabel('# Predictors')\n",
    "    plt.ylabel('Rsquared')\n",
    "\n",
    "    # We will now plot a red dot to indicate the model with the largest adjusted R^2 statistic.\n",
    "    # The argmax() function can be used to identify the location of the maximum point of a vector\n",
    "\n",
    "    rsquared_adj = models_best.apply(lambda row: row[1].rsquared_adj, axis=1)\n",
    "\n",
    "    plt.subplot(2, 2, 2)\n",
    "    plt.plot(rsquared_adj)\n",
    "    plt.plot(1+rsquared_adj.argmax(), rsquared_adj.max(), \"or\")\n",
    "    plt.xlabel('# Predictors')\n",
    "    plt.ylabel('adjusted rsquared')\n",
    "\n",
    "    # We'll do the same for AIC and BIC, this time looking for the models with the SMALLEST statistic\n",
    "    aic = models_best.apply(lambda row: row[1].aic, axis=1)\n",
    "\n",
    "    plt.subplot(2, 2, 3)\n",
    "    plt.plot(aic)\n",
    "    plt.plot(1+aic.argmin(), aic.min(), \"or\")\n",
    "    plt.xlabel('# Predictors')\n",
    "    plt.ylabel('AIC')\n",
    "\n",
    "    bic = models_best.apply(lambda row: row[1].bic, axis=1)\n",
    "\n",
    "    plt.subplot(2, 2, 4)\n",
    "    plt.plot(bic)\n",
    "    plt.plot(1+bic.argmin(), bic.min(), \"or\")\n",
    "    plt.xlabel('# Predictors')\n",
    "    plt.ylabel('BIC')\n",
    "best_sub_plots()"
   ]
  },
  {
   "cell_type": "code",
   "execution_count": null,
   "id": "dd1a4067",
   "metadata": {},
   "outputs": [],
   "source": [
    "best_subset_model = models_best.loc[5,'model']\n",
    "models_best.loc[5,'model'].summary()"
   ]
  },
  {
   "cell_type": "markdown",
   "id": "8de0f33a",
   "metadata": {},
   "source": [
    "# with interaction"
   ]
  },
  {
   "cell_type": "code",
   "execution_count": null,
   "id": "baec3ab8",
   "metadata": {},
   "outputs": [
    {
     "name": "stdout",
     "output_type": "stream",
     "text": [
      "Processed 21 models on 1 predictors in 0.05420398712158203 seconds.\n",
      "Processed 210 models on 2 predictors in 0.6745791435241699 seconds.\n",
      "Processed 1330 models on 3 predictors in 5.3894898891448975 seconds.\n",
      "Processed 5985 models on 4 predictors in 27.45334219932556 seconds.\n",
      "Processed 20349 models on 5 predictors in 115.06409192085266 seconds.\n",
      "Processed 54264 models on 6 predictors in 348.1661560535431 seconds.\n",
      "Processed 116280 models on 7 predictors in 669.3393471240997 seconds.\n"
     ]
    }
   ],
   "source": [
    "import warnings\n",
    "warnings.filterwarnings(\"ignore\")\n",
    "\n",
    "X_backup = data[['Selectivity', 'studentFacultyRatio', 'undergradPop', 'rank', 'out_of_state_total', 'totalGrantAid']]\n",
    "\n",
    "for combo in itertools.combinations(X_backup.columns, 2):    \n",
    "    data['_'.join(combo)] = data[combo[0]]*data[combo[1]]\n",
    "    X.loc[:,'_'.join(combo)] = data.loc[:,'_'.join(combo)] \n",
    "    \n",
    "models_best = pd.DataFrame(columns=[\"Rsquared\", \"model\"])\n",
    "\n",
    "tic = time.time()\n",
    "for i in range(1,1+X.shape[1]):\n",
    "    models_best.loc[i] = getBest_model(i)\n",
    "\n",
    "toc = time.time()\n",
    "print(\"Total elapsed time:\", (toc-tic), \"seconds.\")\n",
    "\n",
    "best_sub_plots()"
   ]
  },
  {
   "cell_type": "code",
   "execution_count": null,
   "id": "70d55e49",
   "metadata": {},
   "outputs": [],
   "source": [
    "best_interaction_model = models_best['model'][7]\n",
    "best_interaction_model.summary()"
   ]
  }
 ],
 "metadata": {
  "kernelspec": {
   "display_name": "Python 3 (ipykernel)",
   "language": "python",
   "name": "python3"
  },
  "language_info": {
   "codemirror_mode": {
    "name": "ipython",
    "version": 3
   },
   "file_extension": ".py",
   "mimetype": "text/x-python",
   "name": "python",
   "nbconvert_exporter": "python",
   "pygments_lexer": "ipython3",
   "version": "3.9.12"
  }
 },
 "nbformat": 4,
 "nbformat_minor": 5
}
